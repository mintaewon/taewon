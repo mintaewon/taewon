{
 "cells": [
  {
   "cell_type": "markdown",
   "metadata": {},
   "source": [
    "https://www.kaggle.com/kralmachine/data-analysis-visualization-for-beginners"
   ]
  },
  {
   "cell_type": "markdown",
   "metadata": {},
   "source": [
    "### 변수 설명\n",
    "* Loan_ID              :   대출받은 고객 ID\n",
    "* paid off\t           :   대출금 상환을 기간 내에 완료한 상태\n",
    "* collection\t       :   대출금 상환을 기간 내에 완료하지 못하고 있는 상태(연체)\n",
    "* collection_paid off  :   대출금 상환을 만기 후에 완료한 상태\n",
    "* Principal\t           :   대출 원금\n",
    "* terms\t               :   1주일, 격주, 한달 단위의 상환 기간\n",
    "* effective_date\t   :   대출 상환 계약일\n",
    "* due_date\t           :   대출 만기일\n",
    "* paid_off_time\t       :   대출금을 지급한 실제 기간\n",
    "* past_due_days\t       :   만기되고 난 후 지난 대출 기간\n",
    "* age\t               :   나이\n",
    "* education\t           :   학력 수준(고졸 이하, 전문대졸, 학사, 석사이상)\n",
    "* Gender\t           :   성별"
   ]
  },
  {
   "cell_type": "markdown",
   "metadata": {},
   "source": [
    "### isnull, unique, value_count 함수"
   ]
  },
  {
   "cell_type": "code",
   "execution_count": 191,
   "metadata": {},
   "outputs": [],
   "source": [
    "def basic_(value_data):\n",
    "    print(\"---결측값 개수---\"), \n",
    "    print(value_data.isnull().sum()),\n",
    "    print(\"---유일값---\"),\n",
    "    print(value_data.unique()),\n",
    "    print(\"---유일값 빈도수---\"),\n",
    "    print(value_data.value_counts())"
   ]
  },
  {
   "cell_type": "code",
   "execution_count": 232,
   "metadata": {},
   "outputs": [],
   "source": [
    "import numpy as np\n",
    "import pandas as pd\n",
    "import matplotlib\n",
    "import matplotlib.pyplot as plt\n",
    "import seaborn as sns"
   ]
  },
  {
   "cell_type": "code",
   "execution_count": 4,
   "metadata": {},
   "outputs": [],
   "source": [
    "data=pd.read_csv('C:\\sample/Loan payments data.csv')"
   ]
  },
  {
   "cell_type": "markdown",
   "metadata": {},
   "source": [
    "# 상위 5개 데이터 추출"
   ]
  },
  {
   "cell_type": "code",
   "execution_count": 5,
   "metadata": {},
   "outputs": [
    {
     "data": {
      "text/html": [
       "<div>\n",
       "<style scoped>\n",
       "    .dataframe tbody tr th:only-of-type {\n",
       "        vertical-align: middle;\n",
       "    }\n",
       "\n",
       "    .dataframe tbody tr th {\n",
       "        vertical-align: top;\n",
       "    }\n",
       "\n",
       "    .dataframe thead th {\n",
       "        text-align: right;\n",
       "    }\n",
       "</style>\n",
       "<table border=\"1\" class=\"dataframe\">\n",
       "  <thead>\n",
       "    <tr style=\"text-align: right;\">\n",
       "      <th></th>\n",
       "      <th>Loan_ID</th>\n",
       "      <th>loan_status</th>\n",
       "      <th>Principal</th>\n",
       "      <th>terms</th>\n",
       "      <th>effective_date</th>\n",
       "      <th>due_date</th>\n",
       "      <th>paid_off_time</th>\n",
       "      <th>past_due_days</th>\n",
       "      <th>age</th>\n",
       "      <th>education</th>\n",
       "      <th>Gender</th>\n",
       "    </tr>\n",
       "  </thead>\n",
       "  <tbody>\n",
       "    <tr>\n",
       "      <th>0</th>\n",
       "      <td>xqd20166231</td>\n",
       "      <td>PAIDOFF</td>\n",
       "      <td>1000</td>\n",
       "      <td>30</td>\n",
       "      <td>9/8/2016</td>\n",
       "      <td>10/7/2016</td>\n",
       "      <td>9/14/2016 19:31</td>\n",
       "      <td>NaN</td>\n",
       "      <td>45</td>\n",
       "      <td>High School or Below</td>\n",
       "      <td>male</td>\n",
       "    </tr>\n",
       "    <tr>\n",
       "      <th>1</th>\n",
       "      <td>xqd20168902</td>\n",
       "      <td>PAIDOFF</td>\n",
       "      <td>1000</td>\n",
       "      <td>30</td>\n",
       "      <td>9/8/2016</td>\n",
       "      <td>10/7/2016</td>\n",
       "      <td>10/7/2016 9:00</td>\n",
       "      <td>NaN</td>\n",
       "      <td>50</td>\n",
       "      <td>Bechalor</td>\n",
       "      <td>female</td>\n",
       "    </tr>\n",
       "    <tr>\n",
       "      <th>2</th>\n",
       "      <td>xqd20160003</td>\n",
       "      <td>PAIDOFF</td>\n",
       "      <td>1000</td>\n",
       "      <td>30</td>\n",
       "      <td>9/8/2016</td>\n",
       "      <td>10/7/2016</td>\n",
       "      <td>9/25/2016 16:58</td>\n",
       "      <td>NaN</td>\n",
       "      <td>33</td>\n",
       "      <td>Bechalor</td>\n",
       "      <td>female</td>\n",
       "    </tr>\n",
       "    <tr>\n",
       "      <th>3</th>\n",
       "      <td>xqd20160004</td>\n",
       "      <td>PAIDOFF</td>\n",
       "      <td>1000</td>\n",
       "      <td>15</td>\n",
       "      <td>9/8/2016</td>\n",
       "      <td>9/22/2016</td>\n",
       "      <td>9/22/2016 20:00</td>\n",
       "      <td>NaN</td>\n",
       "      <td>27</td>\n",
       "      <td>college</td>\n",
       "      <td>male</td>\n",
       "    </tr>\n",
       "    <tr>\n",
       "      <th>4</th>\n",
       "      <td>xqd20160005</td>\n",
       "      <td>PAIDOFF</td>\n",
       "      <td>1000</td>\n",
       "      <td>30</td>\n",
       "      <td>9/9/2016</td>\n",
       "      <td>10/8/2016</td>\n",
       "      <td>9/23/2016 21:36</td>\n",
       "      <td>NaN</td>\n",
       "      <td>28</td>\n",
       "      <td>college</td>\n",
       "      <td>female</td>\n",
       "    </tr>\n",
       "  </tbody>\n",
       "</table>\n",
       "</div>"
      ],
      "text/plain": [
       "       Loan_ID loan_status  Principal  terms effective_date   due_date  \\\n",
       "0  xqd20166231     PAIDOFF       1000     30       9/8/2016  10/7/2016   \n",
       "1  xqd20168902     PAIDOFF       1000     30       9/8/2016  10/7/2016   \n",
       "2  xqd20160003     PAIDOFF       1000     30       9/8/2016  10/7/2016   \n",
       "3  xqd20160004     PAIDOFF       1000     15       9/8/2016  9/22/2016   \n",
       "4  xqd20160005     PAIDOFF       1000     30       9/9/2016  10/8/2016   \n",
       "\n",
       "     paid_off_time  past_due_days  age             education  Gender  \n",
       "0  9/14/2016 19:31            NaN   45  High School or Below    male  \n",
       "1   10/7/2016 9:00            NaN   50              Bechalor  female  \n",
       "2  9/25/2016 16:58            NaN   33              Bechalor  female  \n",
       "3  9/22/2016 20:00            NaN   27               college    male  \n",
       "4  9/23/2016 21:36            NaN   28               college  female  "
      ]
     },
     "execution_count": 5,
     "metadata": {},
     "output_type": "execute_result"
    }
   ],
   "source": [
    "data.head()"
   ]
  },
  {
   "cell_type": "markdown",
   "metadata": {},
   "source": [
    "# 하위 5개 데이터 추출"
   ]
  },
  {
   "cell_type": "code",
   "execution_count": 6,
   "metadata": {},
   "outputs": [
    {
     "data": {
      "text/html": [
       "<div>\n",
       "<style scoped>\n",
       "    .dataframe tbody tr th:only-of-type {\n",
       "        vertical-align: middle;\n",
       "    }\n",
       "\n",
       "    .dataframe tbody tr th {\n",
       "        vertical-align: top;\n",
       "    }\n",
       "\n",
       "    .dataframe thead th {\n",
       "        text-align: right;\n",
       "    }\n",
       "</style>\n",
       "<table border=\"1\" class=\"dataframe\">\n",
       "  <thead>\n",
       "    <tr style=\"text-align: right;\">\n",
       "      <th></th>\n",
       "      <th>Loan_ID</th>\n",
       "      <th>loan_status</th>\n",
       "      <th>Principal</th>\n",
       "      <th>terms</th>\n",
       "      <th>effective_date</th>\n",
       "      <th>due_date</th>\n",
       "      <th>paid_off_time</th>\n",
       "      <th>past_due_days</th>\n",
       "      <th>age</th>\n",
       "      <th>education</th>\n",
       "      <th>Gender</th>\n",
       "    </tr>\n",
       "  </thead>\n",
       "  <tbody>\n",
       "    <tr>\n",
       "      <th>495</th>\n",
       "      <td>xqd20160496</td>\n",
       "      <td>COLLECTION_PAIDOFF</td>\n",
       "      <td>1000</td>\n",
       "      <td>30</td>\n",
       "      <td>9/12/2016</td>\n",
       "      <td>10/11/2016</td>\n",
       "      <td>10/14/2016 19:08</td>\n",
       "      <td>3.0</td>\n",
       "      <td>28</td>\n",
       "      <td>High School or Below</td>\n",
       "      <td>male</td>\n",
       "    </tr>\n",
       "    <tr>\n",
       "      <th>496</th>\n",
       "      <td>xqd20160497</td>\n",
       "      <td>COLLECTION_PAIDOFF</td>\n",
       "      <td>1000</td>\n",
       "      <td>15</td>\n",
       "      <td>9/12/2016</td>\n",
       "      <td>9/26/2016</td>\n",
       "      <td>10/10/2016 20:02</td>\n",
       "      <td>14.0</td>\n",
       "      <td>26</td>\n",
       "      <td>High School or Below</td>\n",
       "      <td>male</td>\n",
       "    </tr>\n",
       "    <tr>\n",
       "      <th>497</th>\n",
       "      <td>xqd20160498</td>\n",
       "      <td>COLLECTION_PAIDOFF</td>\n",
       "      <td>800</td>\n",
       "      <td>15</td>\n",
       "      <td>9/12/2016</td>\n",
       "      <td>9/26/2016</td>\n",
       "      <td>9/29/2016 11:49</td>\n",
       "      <td>3.0</td>\n",
       "      <td>30</td>\n",
       "      <td>college</td>\n",
       "      <td>male</td>\n",
       "    </tr>\n",
       "    <tr>\n",
       "      <th>498</th>\n",
       "      <td>xqd20160499</td>\n",
       "      <td>COLLECTION_PAIDOFF</td>\n",
       "      <td>1000</td>\n",
       "      <td>30</td>\n",
       "      <td>9/12/2016</td>\n",
       "      <td>11/10/2016</td>\n",
       "      <td>11/11/2016 22:40</td>\n",
       "      <td>1.0</td>\n",
       "      <td>38</td>\n",
       "      <td>college</td>\n",
       "      <td>female</td>\n",
       "    </tr>\n",
       "    <tr>\n",
       "      <th>499</th>\n",
       "      <td>xqd20160500</td>\n",
       "      <td>COLLECTION_PAIDOFF</td>\n",
       "      <td>1000</td>\n",
       "      <td>30</td>\n",
       "      <td>9/12/2016</td>\n",
       "      <td>10/11/2016</td>\n",
       "      <td>10/19/2016 11:58</td>\n",
       "      <td>8.0</td>\n",
       "      <td>28</td>\n",
       "      <td>High School or Below</td>\n",
       "      <td>male</td>\n",
       "    </tr>\n",
       "  </tbody>\n",
       "</table>\n",
       "</div>"
      ],
      "text/plain": [
       "         Loan_ID         loan_status  Principal  terms effective_date  \\\n",
       "495  xqd20160496  COLLECTION_PAIDOFF       1000     30      9/12/2016   \n",
       "496  xqd20160497  COLLECTION_PAIDOFF       1000     15      9/12/2016   \n",
       "497  xqd20160498  COLLECTION_PAIDOFF        800     15      9/12/2016   \n",
       "498  xqd20160499  COLLECTION_PAIDOFF       1000     30      9/12/2016   \n",
       "499  xqd20160500  COLLECTION_PAIDOFF       1000     30      9/12/2016   \n",
       "\n",
       "       due_date     paid_off_time  past_due_days  age             education  \\\n",
       "495  10/11/2016  10/14/2016 19:08            3.0   28  High School or Below   \n",
       "496   9/26/2016  10/10/2016 20:02           14.0   26  High School or Below   \n",
       "497   9/26/2016   9/29/2016 11:49            3.0   30               college   \n",
       "498  11/10/2016  11/11/2016 22:40            1.0   38               college   \n",
       "499  10/11/2016  10/19/2016 11:58            8.0   28  High School or Below   \n",
       "\n",
       "     Gender  \n",
       "495    male  \n",
       "496    male  \n",
       "497    male  \n",
       "498  female  \n",
       "499    male  "
      ]
     },
     "execution_count": 6,
     "metadata": {},
     "output_type": "execute_result"
    }
   ],
   "source": [
    "data.tail()"
   ]
  },
  {
   "cell_type": "code",
   "execution_count": 7,
   "metadata": {},
   "outputs": [
    {
     "name": "stdout",
     "output_type": "stream",
     "text": [
      "<class 'pandas.core.frame.DataFrame'>\n",
      "RangeIndex: 500 entries, 0 to 499\n",
      "Data columns (total 11 columns):\n",
      " #   Column          Non-Null Count  Dtype  \n",
      "---  ------          --------------  -----  \n",
      " 0   Loan_ID         500 non-null    object \n",
      " 1   loan_status     500 non-null    object \n",
      " 2   Principal       500 non-null    int64  \n",
      " 3   terms           500 non-null    int64  \n",
      " 4   effective_date  500 non-null    object \n",
      " 5   due_date        500 non-null    object \n",
      " 6   paid_off_time   400 non-null    object \n",
      " 7   past_due_days   200 non-null    float64\n",
      " 8   age             500 non-null    int64  \n",
      " 9   education       500 non-null    object \n",
      " 10  Gender          500 non-null    object \n",
      "dtypes: float64(1), int64(3), object(7)\n",
      "memory usage: 43.1+ KB\n"
     ]
    }
   ],
   "source": [
    "data.info()"
   ]
  },
  {
   "cell_type": "code",
   "execution_count": 8,
   "metadata": {},
   "outputs": [
    {
     "data": {
      "text/html": [
       "<div>\n",
       "<style scoped>\n",
       "    .dataframe tbody tr th:only-of-type {\n",
       "        vertical-align: middle;\n",
       "    }\n",
       "\n",
       "    .dataframe tbody tr th {\n",
       "        vertical-align: top;\n",
       "    }\n",
       "\n",
       "    .dataframe thead th {\n",
       "        text-align: right;\n",
       "    }\n",
       "</style>\n",
       "<table border=\"1\" class=\"dataframe\">\n",
       "  <thead>\n",
       "    <tr style=\"text-align: right;\">\n",
       "      <th></th>\n",
       "      <th>Principal</th>\n",
       "      <th>terms</th>\n",
       "      <th>past_due_days</th>\n",
       "      <th>age</th>\n",
       "    </tr>\n",
       "  </thead>\n",
       "  <tbody>\n",
       "    <tr>\n",
       "      <th>count</th>\n",
       "      <td>500.000000</td>\n",
       "      <td>500.000000</td>\n",
       "      <td>200.00000</td>\n",
       "      <td>500.000000</td>\n",
       "    </tr>\n",
       "    <tr>\n",
       "      <th>mean</th>\n",
       "      <td>943.200000</td>\n",
       "      <td>22.824000</td>\n",
       "      <td>36.01000</td>\n",
       "      <td>31.116000</td>\n",
       "    </tr>\n",
       "    <tr>\n",
       "      <th>std</th>\n",
       "      <td>115.240274</td>\n",
       "      <td>8.000064</td>\n",
       "      <td>29.38088</td>\n",
       "      <td>6.084784</td>\n",
       "    </tr>\n",
       "    <tr>\n",
       "      <th>min</th>\n",
       "      <td>300.000000</td>\n",
       "      <td>7.000000</td>\n",
       "      <td>1.00000</td>\n",
       "      <td>18.000000</td>\n",
       "    </tr>\n",
       "    <tr>\n",
       "      <th>25%</th>\n",
       "      <td>1000.000000</td>\n",
       "      <td>15.000000</td>\n",
       "      <td>3.00000</td>\n",
       "      <td>27.000000</td>\n",
       "    </tr>\n",
       "    <tr>\n",
       "      <th>50%</th>\n",
       "      <td>1000.000000</td>\n",
       "      <td>30.000000</td>\n",
       "      <td>37.00000</td>\n",
       "      <td>30.000000</td>\n",
       "    </tr>\n",
       "    <tr>\n",
       "      <th>75%</th>\n",
       "      <td>1000.000000</td>\n",
       "      <td>30.000000</td>\n",
       "      <td>60.00000</td>\n",
       "      <td>35.000000</td>\n",
       "    </tr>\n",
       "    <tr>\n",
       "      <th>max</th>\n",
       "      <td>1000.000000</td>\n",
       "      <td>30.000000</td>\n",
       "      <td>76.00000</td>\n",
       "      <td>51.000000</td>\n",
       "    </tr>\n",
       "  </tbody>\n",
       "</table>\n",
       "</div>"
      ],
      "text/plain": [
       "         Principal       terms  past_due_days         age\n",
       "count   500.000000  500.000000      200.00000  500.000000\n",
       "mean    943.200000   22.824000       36.01000   31.116000\n",
       "std     115.240274    8.000064       29.38088    6.084784\n",
       "min     300.000000    7.000000        1.00000   18.000000\n",
       "25%    1000.000000   15.000000        3.00000   27.000000\n",
       "50%    1000.000000   30.000000       37.00000   30.000000\n",
       "75%    1000.000000   30.000000       60.00000   35.000000\n",
       "max    1000.000000   30.000000       76.00000   51.000000"
      ]
     },
     "execution_count": 8,
     "metadata": {},
     "output_type": "execute_result"
    }
   ],
   "source": [
    "data.describe()"
   ]
  },
  {
   "cell_type": "markdown",
   "metadata": {},
   "source": [
    "# age 의 통계"
   ]
  },
  {
   "cell_type": "code",
   "execution_count": 9,
   "metadata": {},
   "outputs": [
    {
     "data": {
      "text/plain": [
       "count    500.000000\n",
       "mean      31.116000\n",
       "std        6.084784\n",
       "min       18.000000\n",
       "25%       27.000000\n",
       "50%       30.000000\n",
       "75%       35.000000\n",
       "max       51.000000\n",
       "Name: age, dtype: float64"
      ]
     },
     "execution_count": 9,
     "metadata": {},
     "output_type": "execute_result"
    }
   ],
   "source": [
    "data.age.describe()"
   ]
  },
  {
   "cell_type": "markdown",
   "metadata": {},
   "source": [
    "# age와 terms의 통계"
   ]
  },
  {
   "cell_type": "code",
   "execution_count": 10,
   "metadata": {},
   "outputs": [
    {
     "data": {
      "text/html": [
       "<div>\n",
       "<style scoped>\n",
       "    .dataframe tbody tr th:only-of-type {\n",
       "        vertical-align: middle;\n",
       "    }\n",
       "\n",
       "    .dataframe tbody tr th {\n",
       "        vertical-align: top;\n",
       "    }\n",
       "\n",
       "    .dataframe thead th {\n",
       "        text-align: right;\n",
       "    }\n",
       "</style>\n",
       "<table border=\"1\" class=\"dataframe\">\n",
       "  <thead>\n",
       "    <tr style=\"text-align: right;\">\n",
       "      <th></th>\n",
       "      <th>age</th>\n",
       "      <th>terms</th>\n",
       "    </tr>\n",
       "  </thead>\n",
       "  <tbody>\n",
       "    <tr>\n",
       "      <th>count</th>\n",
       "      <td>500.000000</td>\n",
       "      <td>500.000000</td>\n",
       "    </tr>\n",
       "    <tr>\n",
       "      <th>mean</th>\n",
       "      <td>31.116000</td>\n",
       "      <td>22.824000</td>\n",
       "    </tr>\n",
       "    <tr>\n",
       "      <th>std</th>\n",
       "      <td>6.084784</td>\n",
       "      <td>8.000064</td>\n",
       "    </tr>\n",
       "    <tr>\n",
       "      <th>min</th>\n",
       "      <td>18.000000</td>\n",
       "      <td>7.000000</td>\n",
       "    </tr>\n",
       "    <tr>\n",
       "      <th>25%</th>\n",
       "      <td>27.000000</td>\n",
       "      <td>15.000000</td>\n",
       "    </tr>\n",
       "    <tr>\n",
       "      <th>50%</th>\n",
       "      <td>30.000000</td>\n",
       "      <td>30.000000</td>\n",
       "    </tr>\n",
       "    <tr>\n",
       "      <th>75%</th>\n",
       "      <td>35.000000</td>\n",
       "      <td>30.000000</td>\n",
       "    </tr>\n",
       "    <tr>\n",
       "      <th>max</th>\n",
       "      <td>51.000000</td>\n",
       "      <td>30.000000</td>\n",
       "    </tr>\n",
       "  </tbody>\n",
       "</table>\n",
       "</div>"
      ],
      "text/plain": [
       "              age       terms\n",
       "count  500.000000  500.000000\n",
       "mean    31.116000   22.824000\n",
       "std      6.084784    8.000064\n",
       "min     18.000000    7.000000\n",
       "25%     27.000000   15.000000\n",
       "50%     30.000000   30.000000\n",
       "75%     35.000000   30.000000\n",
       "max     51.000000   30.000000"
      ]
     },
     "execution_count": 10,
     "metadata": {},
     "output_type": "execute_result"
    }
   ],
   "source": [
    "data[['age','terms']].describe()"
   ]
  },
  {
   "cell_type": "markdown",
   "metadata": {},
   "source": [
    "# row와 columns의 수"
   ]
  },
  {
   "cell_type": "code",
   "execution_count": 11,
   "metadata": {},
   "outputs": [
    {
     "data": {
      "text/plain": [
       "(500, 11)"
      ]
     },
     "execution_count": 11,
     "metadata": {},
     "output_type": "execute_result"
    }
   ],
   "source": [
    "data.shape"
   ]
  },
  {
   "cell_type": "markdown",
   "metadata": {},
   "source": [
    "# 변수들의 상관계수"
   ]
  },
  {
   "cell_type": "code",
   "execution_count": 12,
   "metadata": {},
   "outputs": [
    {
     "data": {
      "text/html": [
       "<div>\n",
       "<style scoped>\n",
       "    .dataframe tbody tr th:only-of-type {\n",
       "        vertical-align: middle;\n",
       "    }\n",
       "\n",
       "    .dataframe tbody tr th {\n",
       "        vertical-align: top;\n",
       "    }\n",
       "\n",
       "    .dataframe thead th {\n",
       "        text-align: right;\n",
       "    }\n",
       "</style>\n",
       "<table border=\"1\" class=\"dataframe\">\n",
       "  <thead>\n",
       "    <tr style=\"text-align: right;\">\n",
       "      <th></th>\n",
       "      <th>Principal</th>\n",
       "      <th>terms</th>\n",
       "      <th>past_due_days</th>\n",
       "      <th>age</th>\n",
       "    </tr>\n",
       "  </thead>\n",
       "  <tbody>\n",
       "    <tr>\n",
       "      <th>Principal</th>\n",
       "      <td>1.000000</td>\n",
       "      <td>0.534302</td>\n",
       "      <td>-0.093139</td>\n",
       "      <td>-0.092613</td>\n",
       "    </tr>\n",
       "    <tr>\n",
       "      <th>terms</th>\n",
       "      <td>0.534302</td>\n",
       "      <td>1.000000</td>\n",
       "      <td>-0.102613</td>\n",
       "      <td>-0.074259</td>\n",
       "    </tr>\n",
       "    <tr>\n",
       "      <th>past_due_days</th>\n",
       "      <td>-0.093139</td>\n",
       "      <td>-0.102613</td>\n",
       "      <td>1.000000</td>\n",
       "      <td>-0.053849</td>\n",
       "    </tr>\n",
       "    <tr>\n",
       "      <th>age</th>\n",
       "      <td>-0.092613</td>\n",
       "      <td>-0.074259</td>\n",
       "      <td>-0.053849</td>\n",
       "      <td>1.000000</td>\n",
       "    </tr>\n",
       "  </tbody>\n",
       "</table>\n",
       "</div>"
      ],
      "text/plain": [
       "               Principal     terms  past_due_days       age\n",
       "Principal       1.000000  0.534302      -0.093139 -0.092613\n",
       "terms           0.534302  1.000000      -0.102613 -0.074259\n",
       "past_due_days  -0.093139 -0.102613       1.000000 -0.053849\n",
       "age            -0.092613 -0.074259      -0.053849  1.000000"
      ]
     },
     "execution_count": 12,
     "metadata": {},
     "output_type": "execute_result"
    }
   ],
   "source": [
    "data.corr()"
   ]
  },
  {
   "cell_type": "markdown",
   "metadata": {},
   "source": [
    "# age와 terms의 상관계수"
   ]
  },
  {
   "cell_type": "code",
   "execution_count": 13,
   "metadata": {},
   "outputs": [
    {
     "data": {
      "text/html": [
       "<div>\n",
       "<style scoped>\n",
       "    .dataframe tbody tr th:only-of-type {\n",
       "        vertical-align: middle;\n",
       "    }\n",
       "\n",
       "    .dataframe tbody tr th {\n",
       "        vertical-align: top;\n",
       "    }\n",
       "\n",
       "    .dataframe thead th {\n",
       "        text-align: right;\n",
       "    }\n",
       "</style>\n",
       "<table border=\"1\" class=\"dataframe\">\n",
       "  <thead>\n",
       "    <tr style=\"text-align: right;\">\n",
       "      <th></th>\n",
       "      <th>age</th>\n",
       "      <th>terms</th>\n",
       "    </tr>\n",
       "  </thead>\n",
       "  <tbody>\n",
       "    <tr>\n",
       "      <th>age</th>\n",
       "      <td>1.000000</td>\n",
       "      <td>-0.074259</td>\n",
       "    </tr>\n",
       "    <tr>\n",
       "      <th>terms</th>\n",
       "      <td>-0.074259</td>\n",
       "      <td>1.000000</td>\n",
       "    </tr>\n",
       "  </tbody>\n",
       "</table>\n",
       "</div>"
      ],
      "text/plain": [
       "            age     terms\n",
       "age    1.000000 -0.074259\n",
       "terms -0.074259  1.000000"
      ]
     },
     "execution_count": 13,
     "metadata": {},
     "output_type": "execute_result"
    }
   ],
   "source": [
    "data[['age', 'terms']].corr()"
   ]
  },
  {
   "cell_type": "markdown",
   "metadata": {},
   "source": [
    "# 데이터 타입확인"
   ]
  },
  {
   "cell_type": "code",
   "execution_count": 14,
   "metadata": {},
   "outputs": [
    {
     "data": {
      "text/plain": [
       "Loan_ID            object\n",
       "loan_status        object\n",
       "Principal           int64\n",
       "terms               int64\n",
       "effective_date     object\n",
       "due_date           object\n",
       "paid_off_time      object\n",
       "past_due_days     float64\n",
       "age                 int64\n",
       "education          object\n",
       "Gender             object\n",
       "dtype: object"
      ]
     },
     "execution_count": 14,
     "metadata": {},
     "output_type": "execute_result"
    }
   ],
   "source": [
    "data.dtypes"
   ]
  },
  {
   "cell_type": "markdown",
   "metadata": {},
   "source": [
    "# 데이터 크기"
   ]
  },
  {
   "cell_type": "code",
   "execution_count": 29,
   "metadata": {},
   "outputs": [
    {
     "data": {
      "text/plain": [
       "5500"
      ]
     },
     "execution_count": 29,
     "metadata": {},
     "output_type": "execute_result"
    }
   ],
   "source": [
    "data.size"
   ]
  },
  {
   "cell_type": "markdown",
   "metadata": {},
   "source": [
    "# 데이터 결측값 개수"
   ]
  },
  {
   "cell_type": "code",
   "execution_count": 36,
   "metadata": {},
   "outputs": [
    {
     "data": {
      "text/plain": [
       "Loan_ID             0\n",
       "loan_status         0\n",
       "Principal           0\n",
       "terms               0\n",
       "effective_date      0\n",
       "due_date            0\n",
       "paid_off_time     100\n",
       "past_due_days     300\n",
       "age                 0\n",
       "education           0\n",
       "Gender              0\n",
       "dtype: int64"
      ]
     },
     "execution_count": 36,
     "metadata": {},
     "output_type": "execute_result"
    }
   ],
   "source": [
    "data.isnull().sum()"
   ]
  },
  {
   "cell_type": "markdown",
   "metadata": {},
   "source": [
    "# 데이터셋의 columns 추출"
   ]
  },
  {
   "cell_type": "code",
   "execution_count": 16,
   "metadata": {},
   "outputs": [
    {
     "name": "stdout",
     "output_type": "stream",
     "text": [
      "Loan_Id\n",
      "Loan_Status\n",
      "Principal\n",
      "Terms\n",
      "Effective_Date\n",
      "Due_Date\n",
      "Paid_Of_Time\n",
      "Past_Due_Days\n",
      "Age\n",
      "Education\n",
      "Gender\n"
     ]
    }
   ],
   "source": [
    "for col in data.columns:\n",
    "    print(col)"
   ]
  },
  {
   "cell_type": "markdown",
   "metadata": {},
   "source": [
    "# 데이터 columns 재설정"
   ]
  },
  {
   "cell_type": "code",
   "execution_count": 15,
   "metadata": {},
   "outputs": [
    {
     "name": "stdout",
     "output_type": "stream",
     "text": [
      "Loan_Id\n",
      "Loan_Status\n",
      "Principal\n",
      "Terms\n",
      "Effective_Date\n",
      "Due_Date\n",
      "Paid_Of_Time\n",
      "Past_Due_Days\n",
      "Age\n",
      "Education\n",
      "Gender\n"
     ]
    }
   ],
   "source": [
    "data=data.rename(columns={'Loan_ID':'Loan_Id', 'loan_status':'Loan_Status', 'Principal':'Principal',\n",
    "                          'terms':'Terms', 'effective_date':'Effective_Date', 'due_date':'Due_Date',\n",
    "                          'paid_off_time':'Paid_Of_Time','past_due_days':'Past_Due_Days',\n",
    "                          'age':'Age','education':'Education','Gender':'Gender'})\n",
    "for col in data.columns:\n",
    "    print(col)"
   ]
  },
  {
   "cell_type": "markdown",
   "metadata": {},
   "source": [
    "# Loan_Id 의 유일한 값을 ndarray로 변환 후 결측값을 제외한 각 값들의 빈도를 계산"
   ]
  },
  {
   "cell_type": "code",
   "execution_count": 17,
   "metadata": {},
   "outputs": [
    {
     "data": {
      "text/plain": [
       "0"
      ]
     },
     "execution_count": 17,
     "metadata": {},
     "output_type": "execute_result"
    }
   ],
   "source": [
    "data.Loan_Id.isnull().sum()"
   ]
  },
  {
   "cell_type": "code",
   "execution_count": 18,
   "metadata": {},
   "outputs": [
    {
     "data": {
      "text/plain": [
       "xqd20160428    1\n",
       "xqd20160469    1\n",
       "xqd20160097    1\n",
       "xqd20160202    1\n",
       "xqd20160023    1\n",
       "              ..\n",
       "xqd20160065    1\n",
       "xqd20160281    1\n",
       "xqd20420447    1\n",
       "xqd20160102    1\n",
       "xqd90160092    1\n",
       "Name: Loan_Id, Length: 500, dtype: int64"
      ]
     },
     "execution_count": 18,
     "metadata": {},
     "output_type": "execute_result"
    }
   ],
   "source": [
    "data.Loan_Id.unique()\n",
    "data.Loan_Id.value_counts()"
   ]
  },
  {
   "cell_type": "markdown",
   "metadata": {},
   "source": [
    "# Loan_Status를 결측값을 포함한 빈도를 계산"
   ]
  },
  {
   "cell_type": "code",
   "execution_count": 19,
   "metadata": {},
   "outputs": [
    {
     "data": {
      "text/plain": [
       "PAIDOFF               300\n",
       "COLLECTION_PAIDOFF    100\n",
       "COLLECTION            100\n",
       "Name: Loan_Status, dtype: int64"
      ]
     },
     "execution_count": 19,
     "metadata": {},
     "output_type": "execute_result"
    }
   ],
   "source": [
    "data.Loan_Status.value_counts(dropna=False) # dropna가 False면 결측값 포함"
   ]
  },
  {
   "cell_type": "markdown",
   "metadata": {},
   "source": [
    "# Loan_Stauts 의 결측값 개수"
   ]
  },
  {
   "cell_type": "code",
   "execution_count": 20,
   "metadata": {},
   "outputs": [
    {
     "data": {
      "text/plain": [
       "0"
      ]
     },
     "execution_count": 20,
     "metadata": {},
     "output_type": "execute_result"
    }
   ],
   "source": [
    "data.Loan_Status.isnull().sum()"
   ]
  },
  {
   "cell_type": "markdown",
   "metadata": {},
   "source": [
    "# Loan_Status 의 유일값을 ndarray로 변환 후 reshape함수를 이용해 열이 1개인 배열로 변환"
   ]
  },
  {
   "cell_type": "code",
   "execution_count": 26,
   "metadata": {},
   "outputs": [
    {
     "data": {
      "text/plain": [
       "array([['PAIDOFF'],\n",
       "       ['COLLECTION'],\n",
       "       ['COLLECTION_PAIDOFF']], dtype=object)"
      ]
     },
     "execution_count": 26,
     "metadata": {},
     "output_type": "execute_result"
    }
   ],
   "source": [
    "data.Loan_Status.unique()\n",
    "Loan_Statues_unique = data.Loan_Status.unique().reshape(-1,1)\n",
    "Loan_Statues_unique"
   ]
  },
  {
   "cell_type": "markdown",
   "metadata": {},
   "source": [
    "## 대출금 상환을 기간내에 완료한 인원의 수 = paidoff_count\n",
    "## 대출금 상환을 기간 내에 완료하지 못하고 있는 상태(연체)의 인원수 = collection_count\n",
    "## 대출금 상환을 만기 후에 완료한 상태의 인원수 = collection_paidoff_count"
   ]
  },
  {
   "cell_type": "code",
   "execution_count": 41,
   "metadata": {},
   "outputs": [],
   "source": [
    "paidoff_count = 0\n",
    "collection_count = 0\n",
    "collection_paidoff_count = 0\n",
    "\n",
    "paidoff_count = len(data[data.Loan_Status == Loan_Statues_unique[0][0]].Loan_Id)\n",
    "collection_count = len(data[data.Loan_Status == Loan_Statues_unique[1][0]].Loan_Id)\n",
    "collection_paidoff = len(data[data.Loan_Status == Loan_Statues_unique[2][0]].Loan_Id)"
   ]
  },
  {
   "cell_type": "markdown",
   "metadata": {},
   "source": [
    "## 대출 원금 빈도수 계산"
   ]
  },
  {
   "cell_type": "code",
   "execution_count": 42,
   "metadata": {},
   "outputs": [
    {
     "data": {
      "text/plain": [
       "1000    377\n",
       "800     111\n",
       "300       6\n",
       "500       3\n",
       "900       2\n",
       "700       1\n",
       "Name: Principal, dtype: int64"
      ]
     },
     "execution_count": 42,
     "metadata": {},
     "output_type": "execute_result"
    }
   ],
   "source": [
    "data.Principal.value_counts()"
   ]
  },
  {
   "cell_type": "markdown",
   "metadata": {},
   "source": [
    "## Principal의 결측값 개수"
   ]
  },
  {
   "cell_type": "code",
   "execution_count": 44,
   "metadata": {},
   "outputs": [
    {
     "data": {
      "text/plain": [
       "0"
      ]
     },
     "execution_count": 44,
     "metadata": {},
     "output_type": "execute_result"
    }
   ],
   "source": [
    "data.Principal.isnull().sum()"
   ]
  },
  {
   "cell_type": "markdown",
   "metadata": {},
   "source": [
    "## Loan_Status 로 groupby해서 Principal컬럼별 빈도수 계산"
   ]
  },
  {
   "cell_type": "code",
   "execution_count": 56,
   "metadata": {},
   "outputs": [
    {
     "data": {
      "text/plain": [
       "Loan_Status         Principal\n",
       "COLLECTION          1000          77\n",
       "                    800           23\n",
       "COLLECTION_PAIDOFF  1000          80\n",
       "                    800           19\n",
       "                    500            1\n",
       "PAIDOFF             1000         220\n",
       "                    800           69\n",
       "                    300            6\n",
       "                    500            2\n",
       "                    900            2\n",
       "                    700            1\n",
       "Name: Principal, dtype: int64"
      ]
     },
     "execution_count": 56,
     "metadata": {},
     "output_type": "execute_result"
    }
   ],
   "source": [
    "data.groupby('Loan_Status')['Principal'].value_counts()"
   ]
  },
  {
   "cell_type": "markdown",
   "metadata": {},
   "source": [
    "## 대출 상태별 대출원금 총합계"
   ]
  },
  {
   "cell_type": "code",
   "execution_count": 63,
   "metadata": {},
   "outputs": [
    {
     "data": {
      "text/plain": [
       "Loan_Status\n",
       "COLLECTION             95400\n",
       "COLLECTION_PAIDOFF     95700\n",
       "PAIDOFF               280500\n",
       "Name: Principal, dtype: int64"
      ]
     },
     "execution_count": 63,
     "metadata": {},
     "output_type": "execute_result"
    }
   ],
   "source": [
    "data.groupby('Loan_Status')['Principal'].sum()"
   ]
  },
  {
   "cell_type": "code",
   "execution_count": 68,
   "metadata": {},
   "outputs": [
    {
     "name": "stdout",
     "output_type": "stream",
     "text": [
      "0\n",
      "30    272\n",
      "15    207\n",
      "7      21\n",
      "Name: Terms, dtype: int64\n",
      "[30 15  7]\n"
     ]
    }
   ],
   "source": [
    "print(data.Terms.isnull().sum()) # Terms의 결측값 개수\n",
    "print(data.Terms.value_counts()) # Terms 별 빈도수\n",
    "print(data.Terms.unique()) # 유일값 ndarray로 반환"
   ]
  },
  {
   "cell_type": "code",
   "execution_count": 76,
   "metadata": {},
   "outputs": [
    {
     "name": "stdout",
     "output_type": "stream",
     "text": [
      "Terms  Principal\n",
      "7      1000          11\n",
      "       300            6\n",
      "       800            2\n",
      "       500            1\n",
      "       900            1\n",
      "15     800          103\n",
      "       1000         100\n",
      "       500            2\n",
      "       700            1\n",
      "       900            1\n",
      "30     1000         266\n",
      "       800            6\n",
      "Name: Principal, dtype: int64\n",
      "Terms\n",
      "7      15800\n",
      "15    185000\n",
      "30    270800\n",
      "Name: Principal, dtype: int64\n"
     ]
    }
   ],
   "source": [
    "print(data.groupby('Terms')['Principal'].value_counts()) #Terms의 Principal 별 빈도수\n",
    "print(data.groupby('Terms')['Principal'].sum()) # Terms 별 대출원금 합계"
   ]
  },
  {
   "cell_type": "code",
   "execution_count": 81,
   "metadata": {},
   "outputs": [
    {
     "name": "stdout",
     "output_type": "stream",
     "text": [
      "0\n",
      "9/11/2016    231\n",
      "9/12/2016    148\n",
      "9/10/2016     46\n",
      "9/14/2016     33\n",
      "9/13/2016     23\n",
      "9/9/2016      15\n",
      "9/8/2016       4\n",
      "Name: Effective_Date, dtype: int64\n"
     ]
    }
   ],
   "source": [
    "print(data.Effective_Date.isnull().sum()) # Effective_Date의 결측값 개수\n",
    "print(data.Effective_Date.value_counts()) # Effective_Date의 유일값 별 빈도수"
   ]
  },
  {
   "cell_type": "markdown",
   "metadata": {},
   "source": [
    "## Effective_Date 로 gruopby 해서  Terms와 Principal 의 개수"
   ]
  },
  {
   "cell_type": "code",
   "execution_count": 91,
   "metadata": {},
   "outputs": [
    {
     "data": {
      "text/html": [
       "<div>\n",
       "<style scoped>\n",
       "    .dataframe tbody tr th:only-of-type {\n",
       "        vertical-align: middle;\n",
       "    }\n",
       "\n",
       "    .dataframe tbody tr th {\n",
       "        vertical-align: top;\n",
       "    }\n",
       "\n",
       "    .dataframe thead th {\n",
       "        text-align: right;\n",
       "    }\n",
       "</style>\n",
       "<table border=\"1\" class=\"dataframe\">\n",
       "  <thead>\n",
       "    <tr style=\"text-align: right;\">\n",
       "      <th></th>\n",
       "      <th>Terms</th>\n",
       "      <th>Principal</th>\n",
       "    </tr>\n",
       "    <tr>\n",
       "      <th>Effective_Date</th>\n",
       "      <th></th>\n",
       "      <th></th>\n",
       "    </tr>\n",
       "  </thead>\n",
       "  <tbody>\n",
       "    <tr>\n",
       "      <th>9/10/2016</th>\n",
       "      <td>46</td>\n",
       "      <td>46</td>\n",
       "    </tr>\n",
       "    <tr>\n",
       "      <th>9/11/2016</th>\n",
       "      <td>231</td>\n",
       "      <td>231</td>\n",
       "    </tr>\n",
       "    <tr>\n",
       "      <th>9/12/2016</th>\n",
       "      <td>148</td>\n",
       "      <td>148</td>\n",
       "    </tr>\n",
       "    <tr>\n",
       "      <th>9/13/2016</th>\n",
       "      <td>23</td>\n",
       "      <td>23</td>\n",
       "    </tr>\n",
       "    <tr>\n",
       "      <th>9/14/2016</th>\n",
       "      <td>33</td>\n",
       "      <td>33</td>\n",
       "    </tr>\n",
       "    <tr>\n",
       "      <th>9/8/2016</th>\n",
       "      <td>4</td>\n",
       "      <td>4</td>\n",
       "    </tr>\n",
       "    <tr>\n",
       "      <th>9/9/2016</th>\n",
       "      <td>15</td>\n",
       "      <td>15</td>\n",
       "    </tr>\n",
       "  </tbody>\n",
       "</table>\n",
       "</div>"
      ],
      "text/plain": [
       "                Terms  Principal\n",
       "Effective_Date                  \n",
       "9/10/2016          46         46\n",
       "9/11/2016         231        231\n",
       "9/12/2016         148        148\n",
       "9/13/2016          23         23\n",
       "9/14/2016          33         33\n",
       "9/8/2016            4          4\n",
       "9/9/2016           15         15"
      ]
     },
     "execution_count": 91,
     "metadata": {},
     "output_type": "execute_result"
    }
   ],
   "source": [
    "data.groupby('Effective_Date')[['Terms', 'Principal']].count()"
   ]
  },
  {
   "cell_type": "markdown",
   "metadata": {},
   "source": [
    "## Effective_Date 로 gruopby 해서  Terms와 Principal 의 합계"
   ]
  },
  {
   "cell_type": "code",
   "execution_count": 92,
   "metadata": {},
   "outputs": [
    {
     "data": {
      "text/html": [
       "<div>\n",
       "<style scoped>\n",
       "    .dataframe tbody tr th:only-of-type {\n",
       "        vertical-align: middle;\n",
       "    }\n",
       "\n",
       "    .dataframe tbody tr th {\n",
       "        vertical-align: top;\n",
       "    }\n",
       "\n",
       "    .dataframe thead th {\n",
       "        text-align: right;\n",
       "    }\n",
       "</style>\n",
       "<table border=\"1\" class=\"dataframe\">\n",
       "  <thead>\n",
       "    <tr style=\"text-align: right;\">\n",
       "      <th></th>\n",
       "      <th>Terms</th>\n",
       "      <th>Principal</th>\n",
       "    </tr>\n",
       "    <tr>\n",
       "      <th>Effective_Date</th>\n",
       "      <th></th>\n",
       "      <th></th>\n",
       "    </tr>\n",
       "  </thead>\n",
       "  <tbody>\n",
       "    <tr>\n",
       "      <th>9/10/2016</th>\n",
       "      <td>1026</td>\n",
       "      <td>43200</td>\n",
       "    </tr>\n",
       "    <tr>\n",
       "      <th>9/11/2016</th>\n",
       "      <td>5328</td>\n",
       "      <td>219000</td>\n",
       "    </tr>\n",
       "    <tr>\n",
       "      <th>9/12/2016</th>\n",
       "      <td>3335</td>\n",
       "      <td>139400</td>\n",
       "    </tr>\n",
       "    <tr>\n",
       "      <th>9/13/2016</th>\n",
       "      <td>441</td>\n",
       "      <td>20900</td>\n",
       "    </tr>\n",
       "    <tr>\n",
       "      <th>9/14/2016</th>\n",
       "      <td>840</td>\n",
       "      <td>31400</td>\n",
       "    </tr>\n",
       "    <tr>\n",
       "      <th>9/8/2016</th>\n",
       "      <td>105</td>\n",
       "      <td>4000</td>\n",
       "    </tr>\n",
       "    <tr>\n",
       "      <th>9/9/2016</th>\n",
       "      <td>337</td>\n",
       "      <td>13700</td>\n",
       "    </tr>\n",
       "  </tbody>\n",
       "</table>\n",
       "</div>"
      ],
      "text/plain": [
       "                Terms  Principal\n",
       "Effective_Date                  \n",
       "9/10/2016        1026      43200\n",
       "9/11/2016        5328     219000\n",
       "9/12/2016        3335     139400\n",
       "9/13/2016         441      20900\n",
       "9/14/2016         840      31400\n",
       "9/8/2016          105       4000\n",
       "9/9/2016          337      13700"
      ]
     },
     "execution_count": 92,
     "metadata": {},
     "output_type": "execute_result"
    }
   ],
   "source": [
    "data.groupby('Effective_Date')[['Terms', 'Principal']].sum()"
   ]
  },
  {
   "cell_type": "markdown",
   "metadata": {},
   "source": [
    "## Effective_Date 로 gruopby 해서  Terms와 Principal 의 평균"
   ]
  },
  {
   "cell_type": "code",
   "execution_count": 93,
   "metadata": {},
   "outputs": [
    {
     "data": {
      "text/html": [
       "<div>\n",
       "<style scoped>\n",
       "    .dataframe tbody tr th:only-of-type {\n",
       "        vertical-align: middle;\n",
       "    }\n",
       "\n",
       "    .dataframe tbody tr th {\n",
       "        vertical-align: top;\n",
       "    }\n",
       "\n",
       "    .dataframe thead th {\n",
       "        text-align: right;\n",
       "    }\n",
       "</style>\n",
       "<table border=\"1\" class=\"dataframe\">\n",
       "  <thead>\n",
       "    <tr style=\"text-align: right;\">\n",
       "      <th></th>\n",
       "      <th>Terms</th>\n",
       "      <th>Principal</th>\n",
       "    </tr>\n",
       "    <tr>\n",
       "      <th>Effective_Date</th>\n",
       "      <th></th>\n",
       "      <th></th>\n",
       "    </tr>\n",
       "  </thead>\n",
       "  <tbody>\n",
       "    <tr>\n",
       "      <th>9/10/2016</th>\n",
       "      <td>22.304348</td>\n",
       "      <td>939.130435</td>\n",
       "    </tr>\n",
       "    <tr>\n",
       "      <th>9/11/2016</th>\n",
       "      <td>23.064935</td>\n",
       "      <td>948.051948</td>\n",
       "    </tr>\n",
       "    <tr>\n",
       "      <th>9/12/2016</th>\n",
       "      <td>22.533784</td>\n",
       "      <td>941.891892</td>\n",
       "    </tr>\n",
       "    <tr>\n",
       "      <th>9/13/2016</th>\n",
       "      <td>19.173913</td>\n",
       "      <td>908.695652</td>\n",
       "    </tr>\n",
       "    <tr>\n",
       "      <th>9/14/2016</th>\n",
       "      <td>25.454545</td>\n",
       "      <td>951.515152</td>\n",
       "    </tr>\n",
       "    <tr>\n",
       "      <th>9/8/2016</th>\n",
       "      <td>26.250000</td>\n",
       "      <td>1000.000000</td>\n",
       "    </tr>\n",
       "    <tr>\n",
       "      <th>9/9/2016</th>\n",
       "      <td>22.466667</td>\n",
       "      <td>913.333333</td>\n",
       "    </tr>\n",
       "  </tbody>\n",
       "</table>\n",
       "</div>"
      ],
      "text/plain": [
       "                    Terms    Principal\n",
       "Effective_Date                        \n",
       "9/10/2016       22.304348   939.130435\n",
       "9/11/2016       23.064935   948.051948\n",
       "9/12/2016       22.533784   941.891892\n",
       "9/13/2016       19.173913   908.695652\n",
       "9/14/2016       25.454545   951.515152\n",
       "9/8/2016        26.250000  1000.000000\n",
       "9/9/2016        22.466667   913.333333"
      ]
     },
     "execution_count": 93,
     "metadata": {},
     "output_type": "execute_result"
    }
   ],
   "source": [
    "data.groupby('Effective_Date')[['Terms', 'Principal']].mean()"
   ]
  },
  {
   "cell_type": "markdown",
   "metadata": {},
   "source": [
    "## Age 의 결측값 개수, 유일값, 각 값들의 빈도수"
   ]
  },
  {
   "cell_type": "code",
   "execution_count": 98,
   "metadata": {},
   "outputs": [
    {
     "name": "stdout",
     "output_type": "stream",
     "text": [
      "0\n",
      "[45 50 33 27 28 35 29 36 26 39 40 32 43 25 34 31 37 24 21 30 22 44 46 38\n",
      " 23 20 47 42 19 51 41 18 49]\n",
      "26    46\n",
      "29    42\n",
      "27    38\n",
      "30    37\n",
      "28    32\n",
      "33    30\n",
      "35    26\n",
      "34    25\n",
      "24    23\n",
      "31    22\n",
      "25    20\n",
      "32    20\n",
      "38    19\n",
      "37    19\n",
      "36    14\n",
      "39    10\n",
      "23    10\n",
      "40     8\n",
      "22     8\n",
      "21     7\n",
      "45     5\n",
      "46     5\n",
      "41     5\n",
      "43     5\n",
      "44     4\n",
      "50     4\n",
      "20     4\n",
      "42     4\n",
      "47     3\n",
      "19     2\n",
      "51     1\n",
      "49     1\n",
      "18     1\n",
      "Name: Age, dtype: int64\n"
     ]
    }
   ],
   "source": [
    "print(data.Age.isnull().sum())\n",
    "print(data.Age.unique())\n",
    "print(data.Age.value_counts())"
   ]
  },
  {
   "cell_type": "code",
   "execution_count": 104,
   "metadata": {},
   "outputs": [
    {
     "name": "stdout",
     "output_type": "stream",
     "text": [
      "Terms  Age\n",
      "7      29     4\n",
      "       35     3\n",
      "       25     2\n",
      "       26     2\n",
      "       27     2\n",
      "             ..\n",
      "30     44     2\n",
      "       18     1\n",
      "       46     1\n",
      "       49     1\n",
      "       50     1\n",
      "Name: Age, Length: 72, dtype: int64\n",
      "     Terms  Principal\n",
      "Age                  \n",
      "18      30       1000\n",
      "19      60       2000\n",
      "20     105       4000\n",
      "21     195       6800\n",
      "22     172       7300\n",
      "23     202       8000\n",
      "24     525      22200\n",
      "25     404      19400\n",
      "26    1079      44100\n",
      "27     899      36600\n",
      "28     780      30500\n",
      "29     898      39000\n",
      "30     900      36200\n",
      "31     494      21200\n",
      "32     457      19400\n",
      "33     735      27700\n",
      "34     554      24200\n",
      "35     546      23000\n",
      "36     330      13200\n",
      "37     442      17400\n",
      "38     450      18000\n",
      "39     195       9000\n",
      "40     195       7600\n",
      "41     105       4600\n",
      "42      90       3600\n",
      "43     105       4400\n",
      "44      90       3600\n",
      "45     120       5000\n",
      "46      90       4200\n",
      "47      45       2800\n",
      "49      30       1000\n",
      "50      75       3800\n",
      "51      15        800\n"
     ]
    }
   ],
   "source": [
    "print(data.groupby('Terms')['Age'].value_counts()) #Terms별 Age마다 빈도수\n",
    "print(data.groupby('Age')[['Terms', 'Principal']].sum()) #Age 별 Terms와 Principal 각 총합"
   ]
  },
  {
   "cell_type": "code",
   "execution_count": 113,
   "metadata": {},
   "outputs": [
    {
     "data": {
      "text/plain": [
       "33"
      ]
     },
     "execution_count": 113,
     "metadata": {},
     "output_type": "execute_result"
    }
   ],
   "source": [
    "data_age = data.Age.value_counts().index\n",
    "len(data_age)"
   ]
  },
  {
   "cell_type": "markdown",
   "metadata": {},
   "source": [
    "## ??"
   ]
  },
  {
   "cell_type": "code",
   "execution_count": 118,
   "metadata": {},
   "outputs": [
    {
     "name": "stdout",
     "output_type": "stream",
     "text": [
      "[44100, 39000, 36600, 36200, 30500, 27700, 23000, 24200, 22200, 21200, 19400, 19400, 18000, 17400, 13200, 9000, 8000, 7600, 7300, 6800, 5000, 4200, 4600, 4400, 3600, 3800, 4000, 3600, 2800, 2000, 800, 1000, 1000]\n"
     ]
    }
   ],
   "source": [
    "data_age_list=[]\n",
    "for age in data_age:\n",
    "    data_age_list.append(sum(data[data.Age == int(age)].Principal))\n",
    "\n",
    "print(data_age_list)"
   ]
  },
  {
   "cell_type": "markdown",
   "metadata": {},
   "source": [
    "## Education 분석"
   ]
  },
  {
   "cell_type": "code",
   "execution_count": 192,
   "metadata": {},
   "outputs": [
    {
     "name": "stdout",
     "output_type": "stream",
     "text": [
      "---결측값 개수---\n",
      "0\n",
      "---유일값---\n",
      "['High School or Below' 'Bechalor' 'college' 'Master or Above']\n",
      "---유일값 빈도수---\n",
      "college                 220\n",
      "High School or Below    209\n",
      "Bechalor                 67\n",
      "Master or Above           4\n",
      "Name: Education, dtype: int64\n"
     ]
    }
   ],
   "source": [
    "basic_(data.Education)"
   ]
  },
  {
   "cell_type": "code",
   "execution_count": 177,
   "metadata": {},
   "outputs": [
    {
     "data": {
      "text/plain": [
       "Education\n",
       "Bechalor                 67\n",
       "High School or Below    209\n",
       "Master or Above           4\n",
       "college                 220\n",
       "Name: Age, dtype: int64"
      ]
     },
     "execution_count": 177,
     "metadata": {},
     "output_type": "execute_result"
    }
   ],
   "source": [
    "data.groupby('Education')['Age'].count()"
   ]
  },
  {
   "cell_type": "code",
   "execution_count": 178,
   "metadata": {},
   "outputs": [
    {
     "data": {
      "text/plain": [
       "Education\n",
       "Bechalor                 63300\n",
       "High School or Below    198800\n",
       "Master or Above           2400\n",
       "college                 207100\n",
       "Name: Principal, dtype: int64"
      ]
     },
     "execution_count": 178,
     "metadata": {},
     "output_type": "execute_result"
    }
   ],
   "source": [
    "data.groupby('Education')['Principal'].sum()"
   ]
  },
  {
   "cell_type": "markdown",
   "metadata": {},
   "source": [
    "## Gender 분석"
   ]
  },
  {
   "cell_type": "code",
   "execution_count": 193,
   "metadata": {},
   "outputs": [
    {
     "name": "stdout",
     "output_type": "stream",
     "text": [
      "---결측값 개수---\n",
      "0\n",
      "---유일값---\n",
      "['male' 'female']\n",
      "---유일값 빈도수---\n",
      "male      423\n",
      "female     77\n",
      "Name: Gender, dtype: int64\n"
     ]
    }
   ],
   "source": [
    "basic_(data.Gender)"
   ]
  },
  {
   "cell_type": "code",
   "execution_count": 182,
   "metadata": {},
   "outputs": [
    {
     "data": {
      "text/plain": [
       "Education             Gender\n",
       "Bechalor              male       54\n",
       "                      female     13\n",
       "High School or Below  male      178\n",
       "                      female     31\n",
       "Master or Above       male        4\n",
       "college               male      187\n",
       "                      female     33\n",
       "Name: Gender, dtype: int64"
      ]
     },
     "execution_count": 182,
     "metadata": {},
     "output_type": "execute_result"
    }
   ],
   "source": [
    "data.groupby('Education')['Gender'].value_counts()"
   ]
  },
  {
   "cell_type": "code",
   "execution_count": 184,
   "metadata": {},
   "outputs": [
    {
     "data": {
      "text/plain": [
       "Education             Gender\n",
       "Bechalor              female     12400\n",
       "                      male       50900\n",
       "High School or Below  female     29400\n",
       "                      male      169400\n",
       "Master or Above       male        2400\n",
       "college               female     31000\n",
       "                      male      176100\n",
       "Name: Principal, dtype: int64"
      ]
     },
     "execution_count": 184,
     "metadata": {},
     "output_type": "execute_result"
    }
   ],
   "source": [
    "data.groupby(['Education','Gender'])['Principal'].sum()"
   ]
  },
  {
   "cell_type": "code",
   "execution_count": 186,
   "metadata": {},
   "outputs": [
    {
     "data": {
      "text/plain": [
       "Gender\n",
       "female     72800\n",
       "male      398800\n",
       "Name: Principal, dtype: int64"
      ]
     },
     "execution_count": 186,
     "metadata": {},
     "output_type": "execute_result"
    }
   ],
   "source": [
    "data.groupby('Gender')['Principal'].sum()"
   ]
  },
  {
   "cell_type": "markdown",
   "metadata": {},
   "source": [
    "## Effective 분석"
   ]
  },
  {
   "cell_type": "code",
   "execution_count": 194,
   "metadata": {},
   "outputs": [
    {
     "name": "stdout",
     "output_type": "stream",
     "text": [
      "---결측값 개수---\n",
      "0\n",
      "---유일값---\n",
      "['9/8/2016' '9/9/2016' '9/10/2016' '9/11/2016' '9/12/2016' '9/13/2016'\n",
      " '9/14/2016']\n",
      "---유일값 빈도수---\n",
      "9/11/2016    231\n",
      "9/12/2016    148\n",
      "9/10/2016     46\n",
      "9/14/2016     33\n",
      "9/13/2016     23\n",
      "9/9/2016      15\n",
      "9/8/2016       4\n",
      "Name: Effective_Date, dtype: int64\n"
     ]
    }
   ],
   "source": [
    "basic_(data.Effective_Date)"
   ]
  },
  {
   "cell_type": "code",
   "execution_count": 189,
   "metadata": {},
   "outputs": [
    {
     "data": {
      "text/plain": [
       "Effective_Date\n",
       "9/10/2016     43200\n",
       "9/11/2016    219000\n",
       "9/12/2016    139400\n",
       "9/13/2016     20900\n",
       "9/14/2016     31400\n",
       "9/8/2016       4000\n",
       "9/9/2016      13700\n",
       "Name: Principal, dtype: int64"
      ]
     },
     "execution_count": 189,
     "metadata": {},
     "output_type": "execute_result"
    }
   ],
   "source": [
    "data.groupby('Effective_Date')['Principal'].sum()"
   ]
  },
  {
   "cell_type": "markdown",
   "metadata": {},
   "source": [
    "## Due Date 분석"
   ]
  },
  {
   "cell_type": "code",
   "execution_count": 195,
   "metadata": {},
   "outputs": [
    {
     "name": "stdout",
     "output_type": "stream",
     "text": [
      "---결측값 개수---\n",
      "0\n",
      "---유일값---\n",
      "['10/7/2016' '9/22/2016' '10/8/2016' '9/15/2016' '9/24/2016' '9/16/2016'\n",
      " '10/9/2016' '10/10/2016' '9/25/2016' '9/17/2016' '11/9/2016' '10/25/2016'\n",
      " '9/18/2016' '9/26/2016' '10/26/2016' '10/11/2016' '11/10/2016'\n",
      " '9/19/2016' '10/12/2016' '9/27/2016' '9/28/2016' '10/13/2016'\n",
      " '11/12/2016' '9/23/2016' '11/7/2016']\n",
      "---유일값 빈도수---\n",
      "10/10/2016    123\n",
      "9/25/2016      87\n",
      "10/11/2016     69\n",
      "9/26/2016      60\n",
      "10/9/2016      28\n",
      "10/13/2016     21\n",
      "9/24/2016      17\n",
      "9/27/2016      12\n",
      "11/10/2016     10\n",
      "9/28/2016      10\n",
      "11/9/2016       9\n",
      "10/12/2016      8\n",
      "10/8/2016       7\n",
      "9/17/2016       7\n",
      "9/23/2016       6\n",
      "9/18/2016       4\n",
      "10/25/2016      4\n",
      "10/26/2016      4\n",
      "10/7/2016       3\n",
      "9/19/2016       3\n",
      "9/16/2016       3\n",
      "11/12/2016      2\n",
      "11/7/2016       1\n",
      "9/15/2016       1\n",
      "9/22/2016       1\n",
      "Name: Due_Date, dtype: int64\n"
     ]
    }
   ],
   "source": [
    "basic_(data.Due_Date)"
   ]
  },
  {
   "cell_type": "code",
   "execution_count": 196,
   "metadata": {},
   "outputs": [
    {
     "data": {
      "text/plain": [
       "Due_Date\n",
       "10/10/2016    122300\n",
       "10/11/2016     68800\n",
       "10/12/2016      7800\n",
       "10/13/2016     20600\n",
       "10/25/2016      4000\n",
       "10/26/2016      3800\n",
       "10/7/2016       3000\n",
       "10/8/2016       7000\n",
       "10/9/2016      27400\n",
       "11/10/2016     10000\n",
       "11/12/2016      2000\n",
       "11/7/2016       1000\n",
       "11/9/2016       9000\n",
       "9/15/2016        300\n",
       "9/16/2016       2200\n",
       "9/17/2016       5900\n",
       "9/18/2016       1900\n",
       "9/19/2016       2500\n",
       "9/22/2016       1000\n",
       "9/23/2016       5400\n",
       "9/24/2016      15600\n",
       "9/25/2016      76800\n",
       "9/26/2016      53900\n",
       "9/27/2016      10600\n",
       "9/28/2016       8800\n",
       "Name: Principal, dtype: int64"
      ]
     },
     "execution_count": 196,
     "metadata": {},
     "output_type": "execute_result"
    }
   ],
   "source": [
    "data.groupby('Due_Date')['Principal'].sum()"
   ]
  },
  {
   "cell_type": "markdown",
   "metadata": {},
   "source": [
    "## paidoff date 분석"
   ]
  },
  {
   "cell_type": "code",
   "execution_count": 198,
   "metadata": {},
   "outputs": [
    {
     "name": "stdout",
     "output_type": "stream",
     "text": [
      "---결측값 개수---\n",
      "100\n",
      "---유일값---\n",
      "['9/14/2016 19:31' '10/7/2016 9:00' '9/25/2016 16:58' '9/22/2016 20:00'\n",
      " '9/23/2016 21:36' '9/9/2016 13:45' '10/7/2016 23:07' '10/5/2016 20:33'\n",
      " '10/8/2016 16:00' '9/24/2016 13:00' '9/11/2016 19:11' '10/9/2016 16:00'\n",
      " '10/7/2016 23:32' '9/13/2016 21:57' '9/15/2016 14:27' '9/24/2016 16:00'\n",
      " '9/27/2016 14:21' '9/23/2016 18:49' '10/5/2016 22:05' '9/23/2016 7:42'\n",
      " '10/9/2016 9:00' '10/8/2016 17:09' '10/9/2016 23:00' '10/3/2016 12:50'\n",
      " '9/29/2016 12:18' '9/21/2016 20:16' '9/23/2016 8:21' '9/22/2016 19:17'\n",
      " '10/9/2016 17:33' '9/24/2016 14:41' '10/7/2016 21:48' '10/9/2016 17:44'\n",
      " '10/9/2016 7:24' '9/25/2016 21:49' '9/25/2016 9:00' '10/10/2016 16:00'\n",
      " '9/25/2016 13:00' '10/10/2016 11:33' '9/25/2016 14:36' '9/24/2016 9:00'\n",
      " '9/20/2016 15:00' '9/21/2016 22:29' '9/12/2016 22:17' '10/8/2016 14:14'\n",
      " '10/9/2016 8:53' '10/10/2016 9:00' '9/25/2016 19:21' '9/13/2016 4:34'\n",
      " '9/25/2016 16:00' '10/7/2016 2:33' '9/24/2016 11:40' '9/22/2016 6:38'\n",
      " '9/30/2016 21:12' '9/24/2016 13:42' '10/8/2016 7:25' '9/12/2016 11:40'\n",
      " '9/25/2016 14:38' '9/25/2016 23:00' '10/8/2016 12:04' '9/14/2016 22:05'\n",
      " '9/24/2016 13:27' '9/22/2016 21:18' '9/24/2016 22:53' '10/8/2016 13:12'\n",
      " '10/9/2016 13:49' '9/30/2016 14:29' '9/21/2016 16:18' '9/13/2016 14:53'\n",
      " '10/10/2016 13:00' '11/9/2016 9:00' '9/17/2016 13:01' '9/21/2016 9:35'\n",
      " '9/24/2016 20:33' '9/17/2016 9:00' '9/24/2016 0:12' '9/21/2016 12:43'\n",
      " '10/8/2016 20:49' '9/20/2016 5:38' '10/10/2016 9:01' '10/8/2016 16:55'\n",
      " '9/25/2016 23:48' '9/22/2016 13:15' '9/23/2016 13:31' '10/8/2016 17:19'\n",
      " '10/9/2016 13:05' '9/20/2016 20:47' '10/10/2016 13:01' '10/8/2016 21:39'\n",
      " '10/7/2016 14:23' '10/6/2016 15:25' '10/8/2016 6:56' '9/16/2016 11:58'\n",
      " '10/10/2016 16:01' '9/27/2016 7:02' '10/25/2016 9:00' '9/24/2016 11:02'\n",
      " '9/29/2016 18:57' '9/25/2016 12:24' '9/26/2016 4:41' '9/22/2016 15:44'\n",
      " '10/10/2016 16:13' '9/30/2016 7:12' '9/23/2016 11:26' '9/12/2016 10:26'\n",
      " '9/22/2016 21:45' '10/9/2016 20:28' '10/1/2016 16:48' '9/25/2016 9:01'\n",
      " '9/15/2016 20:36' '9/21/2016 15:33' '9/29/2016 13:36' '9/22/2016 20:51'\n",
      " '11/9/2016 23:00' '9/18/2016 9:00' '9/26/2016 9:00' '9/24/2016 10:14'\n",
      " '10/26/2016 9:00' '9/23/2016 20:30' '9/13/2016 20:17' '10/10/2016 7:01'\n",
      " '10/11/2016 13:00' '9/24/2016 14:55' '9/25/2016 20:56' '9/22/2016 10:49'\n",
      " '9/25/2016 22:09' '10/11/2016 9:00' '9/26/2016 19:33' '11/10/2016 16:00'\n",
      " '10/11/2016 16:00' '9/26/2016 13:00' '9/26/2016 16:00' '9/17/2016 7:39'\n",
      " '9/22/2016 10:30' '10/10/2016 20:41' '10/10/2016 8:04' '9/24/2016 11:00'\n",
      " '9/17/2016 9:25' '10/7/2016 11:53' '9/25/2016 8:39' '10/10/2016 20:28'\n",
      " '10/1/2016 10:18' '9/19/2016 21:07' '9/30/2016 14:38' '9/14/2016 20:31'\n",
      " '9/24/2016 16:15' '10/10/2016 15:49' '11/10/2016 13:00' '9/23/2016 10:32'\n",
      " '9/30/2016 14:03' '10/9/2016 14:17' '9/20/2016 8:26' '10/11/2016 23:00'\n",
      " '9/24/2016 20:47' '10/11/2016 9:01' '9/16/2016 14:52' '10/9/2016 10:00'\n",
      " '9/12/2016 14:40' '9/23/2016 21:58' '10/8/2016 18:48' '10/10/2016 16:41'\n",
      " '10/11/2016 13:01' '9/16/2016 2:34' '9/21/2016 8:11' '9/26/2016 23:00'\n",
      " '9/23/2016 14:01' '9/25/2016 13:29' '9/25/2016 14:50' '10/8/2016 15:35'\n",
      " '10/11/2016 16:01' '9/26/2016 19:35' '10/9/2016 21:28' '10/7/2016 16:45'\n",
      " '9/24/2016 12:13' '9/14/2016 23:02' '10/8/2016 11:03' '9/25/2016 19:31'\n",
      " '9/14/2016 19:48' '10/12/2016 23:00' '9/25/2016 12:48' '9/26/2016 21:18'\n",
      " '10/7/2016 10:22' '9/26/2016 6:17' '9/22/2016 16:57' '10/9/2016 21:57'\n",
      " '10/4/2016 12:59' '9/17/2016 20:51' '10/8/2016 15:51' '9/27/2016 9:00'\n",
      " '9/16/2016 15:57' '10/12/2016 9:00' '9/26/2016 7:48' '9/21/2016 16:53'\n",
      " '10/11/2016 0:29' '9/25/2016 10:37' '9/27/2016 13:00' '9/26/2016 15:10'\n",
      " '9/24/2016 12:46' '9/28/2016 9:00' '10/13/2016 9:00' '10/6/2016 12:09'\n",
      " '10/14/2016 11:03' '10/8/2016 17:12' '11/12/2016 9:00' '10/13/2016 13:00'\n",
      " '9/27/2016 15:52' '9/28/2016 13:00' '9/15/2016 0:43' '10/10/2016 10:25'\n",
      " '9/27/2016 20:41' '10/6/2016 6:51' '10/12/2016 6:25' '9/27/2016 22:50'\n",
      " '10/12/2016 12:30' '10/12/2016 3:49' '9/27/2016 7:48' '9/22/2016 9:28'\n",
      " '10/11/2016 16:33' '9/18/2016 16:56' '9/21/2016 4:42' '10/13/2016 11:00'\n",
      " nan '10/10/2016 11:45' '9/27/2016 17:00' '11/20/2016 14:10'\n",
      " '9/28/2016 15:38' '9/26/2016 17:22' '10/21/2016 14:00' '9/26/2016 11:03'\n",
      " '11/5/2016 15:39' '11/22/2016 15:53' '9/29/2016 10:30' '10/10/2016 15:18'\n",
      " '11/5/2016 10:49' '9/27/2016 17:10' '9/26/2016 11:35' '10/12/2016 9:59'\n",
      " '9/27/2016 17:14' '10/11/2016 12:45' '9/28/2016 11:38' '10/7/2016 13:21'\n",
      " '11/4/2016 15:37' '9/28/2016 17:39' '10/12/2016 9:52' '9/29/2016 15:12'\n",
      " '10/12/2016 11:17' '11/10/2016 22:58' '11/3/2016 15:23'\n",
      " '10/11/2016 16:44' '10/11/2016 11:02' '10/12/2016 13:17'\n",
      " '10/11/2016 17:22' '9/28/2016 14:02' '9/29/2016 13:42' '9/19/2016 15:00'\n",
      " '10/12/2016 14:32' '10/11/2016 11:33' '10/11/2016 16:27'\n",
      " '11/15/2016 15:27' '10/11/2016 16:13' '10/17/2016 10:06'\n",
      " '11/14/2016 13:15' '10/24/2016 16:20' '9/27/2016 16:35'\n",
      " '10/11/2016 11:48' '11/7/2016 19:21' '10/12/2016 16:22' '9/27/2016 17:24'\n",
      " '11/4/2016 11:07' '11/2/2016 9:39' '10/13/2016 18:18' '10/11/2016 11:29'\n",
      " '10/13/2016 16:27' '9/29/2016 11:19' '9/28/2016 11:17' '10/14/2016 11:04'\n",
      " '10/17/2016 17:40' '9/28/2016 9:42' '11/18/2016 15:52' '10/30/2016 14:19'\n",
      " '10/13/2016 15:10' '9/28/2016 13:36' '9/28/2016 15:34' '11/17/2016 11:55'\n",
      " '11/15/2016 18:51' '9/30/2016 10:23' '11/11/2016 17:17'\n",
      " '10/12/2016 12:54' '10/15/2016 9:48' '10/27/2016 11:14'\n",
      " '10/15/2016 14:14' '12/2/2016 9:45' '9/28/2016 15:02' '11/4/2016 14:46'\n",
      " '11/16/2016 12:12' '10/14/2016 19:02' '9/28/2016 11:34' '11/9/2016 18:12'\n",
      " '10/31/2016 13:07' '10/20/2016 17:38' '11/7/2016 8:55' '10/12/2016 18:26'\n",
      " '10/25/2016 13:44' '9/29/2016 15:07' '9/27/2016 11:40' '10/18/2016 19:08'\n",
      " '10/15/2016 9:23' '10/14/2016 10:07' '11/21/2016 11:36'\n",
      " '10/13/2016 12:02' '10/9/2016 19:30' '10/12/2016 18:04'\n",
      " '10/17/2016 10:53' '11/9/2016 13:41' '10/25/2016 17:44' '9/29/2016 12:45'\n",
      " '10/13/2016 14:45' '10/14/2016 19:08' '10/10/2016 20:02'\n",
      " '9/29/2016 11:49' '11/11/2016 22:40' '10/19/2016 11:58']\n",
      "---유일값 빈도수---\n",
      "9/26/2016 9:00     9\n",
      "9/25/2016 9:00     9\n",
      "10/10/2016 9:00    8\n",
      "10/13/2016 9:00    6\n",
      "9/25/2016 13:00    5\n",
      "                  ..\n",
      "10/12/2016 6:25    1\n",
      "9/26/2016 19:35    1\n",
      "9/28/2016 15:34    1\n",
      "9/29/2016 15:12    1\n",
      "9/24/2016 16:00    1\n",
      "Name: Paid_Of_Time, Length: 320, dtype: int64\n"
     ]
    }
   ],
   "source": [
    "basic_(data.Paid_Of_Time)"
   ]
  },
  {
   "cell_type": "code",
   "execution_count": 200,
   "metadata": {},
   "outputs": [
    {
     "data": {
      "text/plain": [
       "Paid_Of_Time\n",
       "10/1/2016 10:18     1000\n",
       "10/1/2016 16:48     1000\n",
       "10/10/2016 10:25     800\n",
       "10/10/2016 11:33    1000\n",
       "10/10/2016 11:45    1000\n",
       "                    ... \n",
       "9/30/2016 14:29     1000\n",
       "9/30/2016 14:38     1000\n",
       "9/30/2016 21:12     1000\n",
       "9/30/2016 7:12      1000\n",
       "9/9/2016 13:45       300\n",
       "Name: Principal, Length: 320, dtype: int64"
      ]
     },
     "execution_count": 200,
     "metadata": {},
     "output_type": "execute_result"
    }
   ],
   "source": [
    "data.groupby('Paid_Of_Time')['Principal'].sum()"
   ]
  },
  {
   "cell_type": "markdown",
   "metadata": {},
   "source": [
    "## past_due_days date (만기되고 난 후 지난 대출 기간) 분석"
   ]
  },
  {
   "cell_type": "code",
   "execution_count": 201,
   "metadata": {},
   "outputs": [
    {
     "name": "stdout",
     "output_type": "stream",
     "text": [
      "---결측값 개수---\n",
      "300\n",
      "---유일값---\n",
      "[nan 76. 61. 75. 60. 59. 74. 29. 44. 58. 73. 28.  2.  4. 13.  5.  3. 12.\n",
      " 27.  1. 25. 24. 36.  7. 14. 23.  6. 38. 19. 52. 51.  9. 56.  8.]\n",
      "---유일값 빈도수---\n",
      "59.0    40\n",
      "74.0    25\n",
      "2.0     22\n",
      "1.0     18\n",
      "3.0     14\n",
      "60.0    13\n",
      "4.0      8\n",
      "75.0     7\n",
      "29.0     7\n",
      "5.0      5\n",
      "27.0     3\n",
      "76.0     3\n",
      "7.0      3\n",
      "44.0     3\n",
      "14.0     3\n",
      "28.0     2\n",
      "58.0     2\n",
      "13.0     2\n",
      "61.0     2\n",
      "12.0     2\n",
      "25.0     2\n",
      "24.0     2\n",
      "6.0      2\n",
      "56.0     1\n",
      "73.0     1\n",
      "36.0     1\n",
      "23.0     1\n",
      "38.0     1\n",
      "19.0     1\n",
      "52.0     1\n",
      "51.0     1\n",
      "9.0      1\n",
      "8.0      1\n",
      "Name: Past_Due_Days, dtype: int64\n"
     ]
    }
   ],
   "source": [
    "basic_(data.Past_Due_Days)"
   ]
  },
  {
   "cell_type": "code",
   "execution_count": 202,
   "metadata": {},
   "outputs": [
    {
     "data": {
      "text/plain": [
       "Past_Due_Days\n",
       "1.0     17100\n",
       "2.0     20600\n",
       "3.0     13200\n",
       "4.0      7600\n",
       "5.0      4800\n",
       "6.0      2000\n",
       "7.0      3000\n",
       "8.0      1000\n",
       "9.0      1000\n",
       "12.0     1800\n",
       "13.0     2000\n",
       "14.0     3000\n",
       "19.0     1000\n",
       "23.0     1000\n",
       "24.0     2000\n",
       "25.0     2000\n",
       "27.0     3000\n",
       "28.0     2000\n",
       "29.0     7000\n",
       "36.0     1000\n",
       "38.0     1000\n",
       "44.0     3000\n",
       "51.0      800\n",
       "52.0     1000\n",
       "56.0      800\n",
       "58.0     2000\n",
       "59.0    39800\n",
       "60.0    12800\n",
       "61.0     2000\n",
       "73.0      800\n",
       "74.0    22000\n",
       "75.0     6400\n",
       "76.0     2600\n",
       "Name: Principal, dtype: int64"
      ]
     },
     "execution_count": 202,
     "metadata": {},
     "output_type": "execute_result"
    }
   ],
   "source": [
    "data.groupby('Past_Due_Days')['Principal'].sum()"
   ]
  },
  {
   "cell_type": "code",
   "execution_count": 204,
   "metadata": {},
   "outputs": [
    {
     "data": {
      "text/plain": [
       "Past_Due_Days\n",
       "1.0     18\n",
       "2.0     22\n",
       "3.0     14\n",
       "4.0      8\n",
       "5.0      5\n",
       "6.0      2\n",
       "7.0      3\n",
       "8.0      1\n",
       "9.0      1\n",
       "12.0     2\n",
       "13.0     2\n",
       "14.0     3\n",
       "19.0     1\n",
       "23.0     1\n",
       "24.0     2\n",
       "25.0     2\n",
       "27.0     3\n",
       "28.0     2\n",
       "29.0     7\n",
       "36.0     1\n",
       "38.0     1\n",
       "44.0     3\n",
       "51.0     1\n",
       "52.0     1\n",
       "56.0     1\n",
       "58.0     2\n",
       "59.0    40\n",
       "60.0    13\n",
       "61.0     2\n",
       "73.0     1\n",
       "74.0    25\n",
       "75.0     7\n",
       "76.0     3\n",
       "Name: Gender, dtype: int64"
      ]
     },
     "execution_count": 204,
     "metadata": {},
     "output_type": "execute_result"
    }
   ],
   "source": [
    "data.groupby('Past_Due_Days')['Gender'].count()"
   ]
  },
  {
   "cell_type": "code",
   "execution_count": 207,
   "metadata": {},
   "outputs": [
    {
     "data": {
      "text/plain": [
       "Education\n",
       "Bechalor                26\n",
       "High School or Below    86\n",
       "Master or Above          1\n",
       "college                 87\n",
       "Name: Past_Due_Days, dtype: int64"
      ]
     },
     "execution_count": 207,
     "metadata": {},
     "output_type": "execute_result"
    }
   ],
   "source": [
    "data.groupby('Education')['Past_Due_Days'].count()"
   ]
  },
  {
   "cell_type": "markdown",
   "metadata": {},
   "source": [
    "## data cleaning - 불필요한 데이터 제거"
   ]
  },
  {
   "cell_type": "code",
   "execution_count": null,
   "metadata": {},
   "outputs": [],
   "source": [
    "data = data.drop('Loan_Id', axis=1) #Loan_Id 는 중요하지 않음"
   ]
  },
  {
   "cell_type": "code",
   "execution_count": 213,
   "metadata": {},
   "outputs": [
    {
     "data": {
      "text/plain": [
       "Loan_Status         0\n",
       "Principal           0\n",
       "Terms               0\n",
       "Effective_Date      0\n",
       "Due_Date            0\n",
       "Paid_Of_Time      100\n",
       "Past_Due_Days     300\n",
       "Age                 0\n",
       "Education           0\n",
       "Gender              0\n",
       "dtype: int64"
      ]
     },
     "execution_count": 213,
     "metadata": {},
     "output_type": "execute_result"
    }
   ],
   "source": [
    "data.isnull().sum()"
   ]
  },
  {
   "cell_type": "code",
   "execution_count": 214,
   "metadata": {},
   "outputs": [],
   "source": [
    "data = data.drop(['Paid_Of_Time','Past_Due_Days'], axis = 1) # 결측값이 있는 Paid_Of_Time와 Past_Due_Days 제거"
   ]
  },
  {
   "cell_type": "markdown",
   "metadata": {},
   "source": [
    "### 데이터 시각화"
   ]
  },
  {
   "cell_type": "code",
   "execution_count": 220,
   "metadata": {},
   "outputs": [
    {
     "data": {
      "image/png": "[encoded data removed]",
      "text/plain": [
       "<Figure size 432x288 with 1 Axes>"
      ]
     },
     "metadata": {
      "needs_background": "light"
     },
     "output_type": "display_data"
    }
   ],
   "source": [
    "sns.countplot(data['Loan_Status'])\n",
    "plt.show()"
   ]
  },
  {
   "cell_type": "code",
   "execution_count": 229,
   "metadata": {},
   "outputs": [
    {
     "data": {
      "text/plain": [
       "Education\n",
       "Bechalor                 41\n",
       "High School or Below    123\n",
       "Master or Above           3\n",
       "college                 133\n",
       "Name: Gender, dtype: int64"
      ]
     },
     "execution_count": 229,
     "metadata": {},
     "output_type": "execute_result"
    }
   ],
   "source": [
    "data[data['Loan_Status'] == 'PAIDOFF'].groupby('Education')['Gender'].count()"
   ]
  },
  {
   "cell_type": "code",
   "execution_count": 237,
   "metadata": {},
   "outputs": [
    {
     "data": {
      "image/png": "[encoded data removed]",
      "text/plain": [
       "<Figure size 432x288 with 1 Axes>"
      ]
     },
     "metadata": {
      "needs_background": "light"
     },
     "output_type": "display_data"
    }
   ],
   "source": [
    "sns.barplot(x = data[data['Loan_Status'] == 'PAIDOFF'].groupby('Education')['Gender'].count().index,\n",
    "            y = data[data['Loan_Status'] == 'PAIDOFF'].groupby('Education')['Gender'].count().values)\n",
    "plt.xticks(rotation=45) # x축 label 기울기 변경\n",
    "plt.show()"
   ]
  },
  {
   "cell_type": "code",
   "execution_count": 240,
   "metadata": {},
   "outputs": [
    {
     "data": {
      "text/plain": [
       "male      320\n",
       "female     57\n",
       "Name: Gender, dtype: int64"
      ]
     },
     "execution_count": 240,
     "metadata": {},
     "output_type": "execute_result"
    }
   ],
   "source": [
    "data[data['Principal'] == 1000].Gender.value_counts()"
   ]
  },
  {
   "cell_type": "code",
   "execution_count": 257,
   "metadata": {},
   "outputs": [
    {
     "data": {
      "text/plain": [
       "Text(0.5, 1.0, 'Gender & Principal Bar Plot')"
      ]
     },
     "execution_count": 257,
     "metadata": {},
     "output_type": "execute_result"
    },
    {
     "data": {
      "image/png": "[encoded data removed]",
      "text/plain": [
       "<Figure size 360x360 with 1 Axes>"
      ]
     },
     "metadata": {
      "needs_background": "light"
     },
     "output_type": "display_data"
    }
   ],
   "source": [
    "plt.figure(figsize=(5,5))\n",
    "ax = sns.barplot(x = data[data['Principal'] == 1000].Gender.value_counts().index,\n",
    "                y = data[data['Principal'] == 1000].Gender.value_counts().values,\n",
    "                palette=sns.cubehelix_palette(120))\n",
    "plt.xlabel('Gender')\n",
    "plt.ylabel('Principal')\n",
    "plt.title('Gender & Principal Bar Plot')"
   ]
  },
  {
   "cell_type": "code",
   "execution_count": 268,
   "metadata": {},
   "outputs": [
    {
     "data": {
      "image/png": "[encoded data removed]",
      "text/plain": [
       "<Figure size 504x504 with 1 Axes>"
      ]
     },
     "metadata": {},
     "output_type": "display_data"
    }
   ],
   "source": [
    "labels = data['Terms'].value_counts().index\n",
    "colors = ['blue','red','yellow']\n",
    "explode = [0,0,0.1]\n",
    "values = data['Terms'].value_counts().values\n",
    "\n",
    "plt.figure(figsize=(7,7))\n",
    "plt.pie(values, explode = explode, labels = labels, colors=colors, autopct = '%1.1f%%')\n",
    "plt.title('Terms Analysis', color='black', fontsize=15)\n",
    "plt.show()"
   ]
  },
  {
   "cell_type": "code",
   "execution_count": 271,
   "metadata": {},
   "outputs": [
    {
     "data": {
      "image/png": "[encoded data removed]",
      "text/plain": [
       "<Figure size 360x360 with 1 Axes>"
      ]
     },
     "metadata": {
      "needs_background": "light"
     },
     "output_type": "display_data"
    }
   ],
   "source": [
    "sns.lmplot(x='Terms',y='Age', data=data)\n",
    "plt.xlabel('Terms Values')\n",
    "plt.ylabel('Age Values')\n",
    "plt.title('Terms vs Age Values')\n",
    "plt.show()"
   ]
  },
  {
   "cell_type": "code",
   "execution_count": 276,
   "metadata": {},
   "outputs": [
    {
     "data": {
      "image/png": "[encoded data removed]",
      "text/plain": [
       "<Figure size 432x288 with 1 Axes>"
      ]
     },
     "metadata": {
      "needs_background": "light"
     },
     "output_type": "display_data"
    }
   ],
   "source": [
    "sns.kdeplot(data['Age'], shade=True, color='r')\n",
    "sns.kdeplot(data['Terms'], shade=True, color='b')\n",
    "plt.xlabel('Values')\n",
    "plt.ylabel('Frequency')\n",
    "plt.title('Age kde plot analysis')\n",
    "plt.show()"
   ]
  },
  {
   "cell_type": "code",
   "execution_count": 280,
   "metadata": {},
   "outputs": [
    {
     "data": {
      "image/png": "[encoded data removed]",
      "text/plain": [
       "<Figure size 432x288 with 1 Axes>"
      ]
     },
     "metadata": {
      "needs_background": "light"
     },
     "output_type": "display_data"
    }
   ],
   "source": [
    "sns.violinplot(data['Age'])\n",
    "plt.xlabel('Age')\n",
    "plt.ylabel('Frequency')\n",
    "plt.title('Violin Age Score Show')\n",
    "plt.show()"
   ]
  },
  {
   "cell_type": "code",
   "execution_count": 282,
   "metadata": {},
   "outputs": [
    {
     "data": {
      "image/png": "[encoded data removed]",
      "text/plain": [
       "<Figure size 432x288 with 1 Axes>"
      ]
     },
     "metadata": {
      "needs_background": "light"
     },
     "output_type": "display_data"
    }
   ],
   "source": [
    "sns.countplot(data['Gender'],hue=data['Education'])\n",
    "plt.show()"
   ]
  },
  {
   "cell_type": "code",
   "execution_count": 292,
   "metadata": {},
   "outputs": [
    {
     "data": {
      "image/png": "[encoded data removed]",
      "text/plain": [
       "<Figure size 504x504 with 1 Axes>"
      ]
     },
     "metadata": {
      "needs_background": "light"
     },
     "output_type": "display_data"
    }
   ],
   "source": [
    "plt.figure(figsize=(7, 7))\n",
    "sns.countplot(y = data['Age'], palette=\"Set2\", hue=data['Gender'])\n",
    "plt.legend(loc=4)\n",
    "plt.tight_layout()\n",
    "plt.show()"
   ]
  }
 ],
 "metadata": {
  "kernelspec": {
   "display_name": "Python 3",
   "language": "python",
   "name": "python3"
  },
  "language_info": {
   "codemirror_mode": {
    "name": "ipython",
    "version": 3
   },
   "file_extension": ".py",
   "mimetype": "text/x-python",
   "name": "python",
   "nbconvert_exporter": "python",
   "pygments_lexer": "ipython3",
   "version": "3.7.6"
  }
 },
 "nbformat": 4,
 "nbformat_minor": 4
}
