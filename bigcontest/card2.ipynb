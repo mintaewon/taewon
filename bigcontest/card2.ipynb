{
 "cells": [
  {
   "cell_type": "code",
   "execution_count": 71,
   "metadata": {},
   "outputs": [],
   "source": [
    "import numpy as np\n",
    "import pandas as pd\n",
    "import matplotlib.pyplot as plt\n",
    "import seaborn as sns\n",
    "\n",
    "plt.style.use('seaborn')\n",
    "sns.set(font_scale=1)\n",
    "%matplotlib inline"
   ]
  },
  {
   "cell_type": "code",
   "execution_count": 72,
   "metadata": {},
   "outputs": [],
   "source": [
    "re_data = pd.read_csv('data/shinhan_card/CARD_SPENDING_RESIDENT/CARD_SPENDING_RESIDENT.txt', delimiter='\\t', parse_dates=['STD_DD'])"
   ]
  },
  {
   "cell_type": "code",
   "execution_count": 73,
   "metadata": {},
   "outputs": [
    {
     "data": {
      "text/html": [
       "<div>\n",
       "<style scoped>\n",
       "    .dataframe tbody tr th:only-of-type {\n",
       "        vertical-align: middle;\n",
       "    }\n",
       "\n",
       "    .dataframe tbody tr th {\n",
       "        vertical-align: top;\n",
       "    }\n",
       "\n",
       "    .dataframe thead th {\n",
       "        text-align: right;\n",
       "    }\n",
       "</style>\n",
       "<table border=\"1\" class=\"dataframe\">\n",
       "  <thead>\n",
       "    <tr style=\"text-align: right;\">\n",
       "      <th></th>\n",
       "      <th>STD_DD</th>\n",
       "      <th>GU_CD</th>\n",
       "      <th>DONG_CD</th>\n",
       "      <th>MCT_CAT_CD</th>\n",
       "      <th>SEX_CD</th>\n",
       "      <th>AGE_CD</th>\n",
       "      <th>USE_CNT</th>\n",
       "      <th>USE_AMT</th>\n",
       "    </tr>\n",
       "  </thead>\n",
       "  <tbody>\n",
       "    <tr>\n",
       "      <th>0</th>\n",
       "      <td>2019-02-01</td>\n",
       "      <td>110</td>\n",
       "      <td>517</td>\n",
       "      <td>10</td>\n",
       "      <td>F</td>\n",
       "      <td>25</td>\n",
       "      <td>11</td>\n",
       "      <td>595</td>\n",
       "    </tr>\n",
       "    <tr>\n",
       "      <th>1</th>\n",
       "      <td>2019-02-01</td>\n",
       "      <td>110</td>\n",
       "      <td>517</td>\n",
       "      <td>10</td>\n",
       "      <td>F</td>\n",
       "      <td>50</td>\n",
       "      <td>5</td>\n",
       "      <td>243</td>\n",
       "    </tr>\n",
       "    <tr>\n",
       "      <th>2</th>\n",
       "      <td>2019-02-01</td>\n",
       "      <td>110</td>\n",
       "      <td>517</td>\n",
       "      <td>10</td>\n",
       "      <td>F</td>\n",
       "      <td>55</td>\n",
       "      <td>5</td>\n",
       "      <td>27</td>\n",
       "    </tr>\n",
       "    <tr>\n",
       "      <th>3</th>\n",
       "      <td>2019-02-01</td>\n",
       "      <td>110</td>\n",
       "      <td>517</td>\n",
       "      <td>10</td>\n",
       "      <td>M</td>\n",
       "      <td>20</td>\n",
       "      <td>11</td>\n",
       "      <td>243</td>\n",
       "    </tr>\n",
       "    <tr>\n",
       "      <th>4</th>\n",
       "      <td>2019-02-01</td>\n",
       "      <td>110</td>\n",
       "      <td>517</td>\n",
       "      <td>10</td>\n",
       "      <td>M</td>\n",
       "      <td>25</td>\n",
       "      <td>11</td>\n",
       "      <td>433</td>\n",
       "    </tr>\n",
       "  </tbody>\n",
       "</table>\n",
       "</div>"
      ],
      "text/plain": [
       "      STD_DD  GU_CD  DONG_CD  MCT_CAT_CD SEX_CD  AGE_CD  USE_CNT  USE_AMT\n",
       "0 2019-02-01    110      517          10      F      25       11      595\n",
       "1 2019-02-01    110      517          10      F      50        5      243\n",
       "2 2019-02-01    110      517          10      F      55        5       27\n",
       "3 2019-02-01    110      517          10      M      20       11      243\n",
       "4 2019-02-01    110      517          10      M      25       11      433"
      ]
     },
     "execution_count": 73,
     "metadata": {},
     "output_type": "execute_result"
    }
   ],
   "source": [
    "re_data.head()"
   ]
  },
  {
   "cell_type": "code",
   "execution_count": 74,
   "metadata": {},
   "outputs": [
    {
     "data": {
      "text/html": [
       "<div>\n",
       "<style scoped>\n",
       "    .dataframe tbody tr th:only-of-type {\n",
       "        vertical-align: middle;\n",
       "    }\n",
       "\n",
       "    .dataframe tbody tr th {\n",
       "        vertical-align: top;\n",
       "    }\n",
       "\n",
       "    .dataframe thead th {\n",
       "        text-align: right;\n",
       "    }\n",
       "</style>\n",
       "<table border=\"1\" class=\"dataframe\">\n",
       "  <thead>\n",
       "    <tr style=\"text-align: right;\">\n",
       "      <th></th>\n",
       "      <th>STD_DD</th>\n",
       "      <th>GU_CD</th>\n",
       "      <th>DONG_CD</th>\n",
       "      <th>MCT_CAT_CD</th>\n",
       "      <th>SEX_CD</th>\n",
       "      <th>AGE_CD</th>\n",
       "      <th>USE_CNT</th>\n",
       "      <th>USE_AMT</th>\n",
       "    </tr>\n",
       "  </thead>\n",
       "  <tbody>\n",
       "    <tr>\n",
       "      <th>2537748</th>\n",
       "      <td>2020-05-31</td>\n",
       "      <td>350</td>\n",
       "      <td>720</td>\n",
       "      <td>81</td>\n",
       "      <td>M</td>\n",
       "      <td>45</td>\n",
       "      <td>19</td>\n",
       "      <td>127</td>\n",
       "    </tr>\n",
       "    <tr>\n",
       "      <th>2537749</th>\n",
       "      <td>2020-05-31</td>\n",
       "      <td>350</td>\n",
       "      <td>720</td>\n",
       "      <td>81</td>\n",
       "      <td>M</td>\n",
       "      <td>50</td>\n",
       "      <td>33</td>\n",
       "      <td>211</td>\n",
       "    </tr>\n",
       "    <tr>\n",
       "      <th>2537750</th>\n",
       "      <td>2020-05-31</td>\n",
       "      <td>350</td>\n",
       "      <td>720</td>\n",
       "      <td>81</td>\n",
       "      <td>M</td>\n",
       "      <td>55</td>\n",
       "      <td>9</td>\n",
       "      <td>61</td>\n",
       "    </tr>\n",
       "    <tr>\n",
       "      <th>2537751</th>\n",
       "      <td>2020-05-31</td>\n",
       "      <td>350</td>\n",
       "      <td>720</td>\n",
       "      <td>81</td>\n",
       "      <td>M</td>\n",
       "      <td>60</td>\n",
       "      <td>19</td>\n",
       "      <td>194</td>\n",
       "    </tr>\n",
       "    <tr>\n",
       "      <th>2537752</th>\n",
       "      <td>2020-05-31</td>\n",
       "      <td>350</td>\n",
       "      <td>720</td>\n",
       "      <td>81</td>\n",
       "      <td>M</td>\n",
       "      <td>65</td>\n",
       "      <td>5</td>\n",
       "      <td>29</td>\n",
       "    </tr>\n",
       "  </tbody>\n",
       "</table>\n",
       "</div>"
      ],
      "text/plain": [
       "            STD_DD  GU_CD  DONG_CD  MCT_CAT_CD SEX_CD  AGE_CD  USE_CNT  \\\n",
       "2537748 2020-05-31    350      720          81      M      45       19   \n",
       "2537749 2020-05-31    350      720          81      M      50       33   \n",
       "2537750 2020-05-31    350      720          81      M      55        9   \n",
       "2537751 2020-05-31    350      720          81      M      60       19   \n",
       "2537752 2020-05-31    350      720          81      M      65        5   \n",
       "\n",
       "         USE_AMT  \n",
       "2537748      127  \n",
       "2537749      211  \n",
       "2537750       61  \n",
       "2537751      194  \n",
       "2537752       29  "
      ]
     },
     "execution_count": 74,
     "metadata": {},
     "output_type": "execute_result"
    }
   ],
   "source": [
    "re_data.tail()"
   ]
  },
  {
   "cell_type": "code",
   "execution_count": 75,
   "metadata": {},
   "outputs": [
    {
     "name": "stdout",
     "output_type": "stream",
     "text": [
      "<class 'pandas.core.frame.DataFrame'>\n",
      "RangeIndex: 2537753 entries, 0 to 2537752\n",
      "Data columns (total 8 columns):\n",
      " #   Column      Dtype         \n",
      "---  ------      -----         \n",
      " 0   STD_DD      datetime64[ns]\n",
      " 1   GU_CD       int64         \n",
      " 2   DONG_CD     int64         \n",
      " 3   MCT_CAT_CD  int64         \n",
      " 4   SEX_CD      object        \n",
      " 5   AGE_CD      int64         \n",
      " 6   USE_CNT     int64         \n",
      " 7   USE_AMT     int64         \n",
      "dtypes: datetime64[ns](1), int64(6), object(1)\n",
      "memory usage: 154.9+ MB\n"
     ]
    }
   ],
   "source": [
    "re_data.info()"
   ]
  },
  {
   "cell_type": "code",
   "execution_count": 76,
   "metadata": {},
   "outputs": [
    {
     "data": {
      "text/plain": [
       "(2537753, 8)"
      ]
     },
     "execution_count": 76,
     "metadata": {},
     "output_type": "execute_result"
    }
   ],
   "source": [
    "re_data.shape"
   ]
  },
  {
   "cell_type": "code",
   "execution_count": 77,
   "metadata": {},
   "outputs": [
    {
     "data": {
      "text/plain": [
       "STD_DD        0\n",
       "GU_CD         0\n",
       "DONG_CD       0\n",
       "MCT_CAT_CD    0\n",
       "SEX_CD        0\n",
       "AGE_CD        0\n",
       "USE_CNT       0\n",
       "USE_AMT       0\n",
       "dtype: int64"
      ]
     },
     "execution_count": 77,
     "metadata": {},
     "output_type": "execute_result"
    }
   ],
   "source": [
    "re_data.isnull().sum()"
   ]
  },
  {
   "cell_type": "code",
   "execution_count": 78,
   "metadata": {},
   "outputs": [
    {
     "data": {
      "text/plain": [
       "350    761412\n",
       "260    746820\n",
       "140    667106\n",
       "110    362415\n",
       "Name: GU_CD, dtype: int64"
      ]
     },
     "execution_count": 78,
     "metadata": {},
     "output_type": "execute_result"
    }
   ],
   "source": [
    "re_data.GU_CD.value_counts()"
   ]
  },
  {
   "cell_type": "code",
   "execution_count": 79,
   "metadata": {},
   "outputs": [
    {
     "data": {
      "text/plain": [
       "670    144986\n",
       "640    127335\n",
       "550    108809\n",
       "680    105980\n",
       "540    103374\n",
       "570     97804\n",
       "595     94899\n",
       "580     94525\n",
       "520     91711\n",
       "590     89509\n",
       "625     81089\n",
       "630     80088\n",
       "560     69696\n",
       "665     62836\n",
       "565     60065\n",
       "650     57814\n",
       "695     53205\n",
       "575     49697\n",
       "600     48723\n",
       "605     48695\n",
       "545     44764\n",
       "615     43799\n",
       "690     43572\n",
       "651     41552\n",
       "619     39166\n",
       "621     38954\n",
       "611     38483\n",
       "624     37937\n",
       "510     36796\n",
       "635     36593\n",
       "602     35544\n",
       "561     33169\n",
       "700     32201\n",
       "610     32091\n",
       "620     30731\n",
       "652     30579\n",
       "720     29328\n",
       "710     29018\n",
       "517     28247\n",
       "530     27521\n",
       "645     26585\n",
       "612     24990\n",
       "662     24352\n",
       "661     23441\n",
       "601     21333\n",
       "585     19767\n",
       "660     16400\n",
       "Name: DONG_CD, dtype: int64"
      ]
     },
     "execution_count": 79,
     "metadata": {},
     "output_type": "execute_result"
    }
   ],
   "source": [
    "re_data.DONG_CD.value_counts()"
   ]
  },
  {
   "cell_type": "code",
   "execution_count": 80,
   "metadata": {},
   "outputs": [
    {
     "data": {
      "text/plain": [
       "40    326560\n",
       "80    326471\n",
       "81    291322\n",
       "70    280001\n",
       "71    211651\n",
       "21    158288\n",
       "33    143343\n",
       "50    122479\n",
       "62    111545\n",
       "22     99595\n",
       "42     94797\n",
       "92     70101\n",
       "20     67506\n",
       "10     58095\n",
       "44     50400\n",
       "52     29515\n",
       "35     26769\n",
       "34     24659\n",
       "32     16120\n",
       "43     13810\n",
       "60      6666\n",
       "30      6102\n",
       "31      1958\n",
       "Name: MCT_CAT_CD, dtype: int64"
      ]
     },
     "execution_count": 80,
     "metadata": {},
     "output_type": "execute_result"
    }
   ],
   "source": [
    "re_data.MCT_CAT_CD.value_counts()"
   ]
  },
  {
   "cell_type": "code",
   "execution_count": 81,
   "metadata": {},
   "outputs": [
    {
     "data": {
      "text/plain": [
       "M    1295256\n",
       "F    1242497\n",
       "Name: SEX_CD, dtype: int64"
      ]
     },
     "execution_count": 81,
     "metadata": {},
     "output_type": "execute_result"
    }
   ],
   "source": [
    "re_data.SEX_CD.value_counts()"
   ]
  },
  {
   "cell_type": "code",
   "execution_count": 82,
   "metadata": {},
   "outputs": [
    {
     "data": {
      "text/plain": [
       "45    287695\n",
       "50    280996\n",
       "40    269982\n",
       "25    264405\n",
       "35    263903\n",
       "30    256633\n",
       "55    252090\n",
       "65    221656\n",
       "60    220820\n",
       "20    219573\n",
       "Name: AGE_CD, dtype: int64"
      ]
     },
     "execution_count": 82,
     "metadata": {},
     "output_type": "execute_result"
    }
   ],
   "source": [
    "re_data.AGE_CD.value_counts()"
   ]
  },
  {
   "cell_type": "code",
   "execution_count": 83,
   "metadata": {
    "scrolled": false
   },
   "outputs": [
    {
     "data": {
      "text/html": [
       "<div>\n",
       "<style scoped>\n",
       "    .dataframe tbody tr th:only-of-type {\n",
       "        vertical-align: middle;\n",
       "    }\n",
       "\n",
       "    .dataframe tbody tr th {\n",
       "        vertical-align: top;\n",
       "    }\n",
       "\n",
       "    .dataframe thead th {\n",
       "        text-align: right;\n",
       "    }\n",
       "</style>\n",
       "<table border=\"1\" class=\"dataframe\">\n",
       "  <thead>\n",
       "    <tr style=\"text-align: right;\">\n",
       "      <th></th>\n",
       "      <th>STD_DD</th>\n",
       "      <th>GU_CD</th>\n",
       "      <th>DONG_CD</th>\n",
       "      <th>MCT_CAT_CD</th>\n",
       "      <th>SEX_CD</th>\n",
       "      <th>AGE_CD</th>\n",
       "      <th>USE_CNT</th>\n",
       "      <th>USE_AMT</th>\n",
       "      <th>year</th>\n",
       "      <th>month</th>\n",
       "      <th>day</th>\n",
       "    </tr>\n",
       "  </thead>\n",
       "  <tbody>\n",
       "    <tr>\n",
       "      <th>0</th>\n",
       "      <td>2019-02-01</td>\n",
       "      <td>110</td>\n",
       "      <td>517</td>\n",
       "      <td>10</td>\n",
       "      <td>F</td>\n",
       "      <td>25</td>\n",
       "      <td>11</td>\n",
       "      <td>595</td>\n",
       "      <td>2019</td>\n",
       "      <td>2</td>\n",
       "      <td>1</td>\n",
       "    </tr>\n",
       "    <tr>\n",
       "      <th>1</th>\n",
       "      <td>2019-02-01</td>\n",
       "      <td>110</td>\n",
       "      <td>517</td>\n",
       "      <td>10</td>\n",
       "      <td>F</td>\n",
       "      <td>50</td>\n",
       "      <td>5</td>\n",
       "      <td>243</td>\n",
       "      <td>2019</td>\n",
       "      <td>2</td>\n",
       "      <td>1</td>\n",
       "    </tr>\n",
       "    <tr>\n",
       "      <th>2</th>\n",
       "      <td>2019-02-01</td>\n",
       "      <td>110</td>\n",
       "      <td>517</td>\n",
       "      <td>10</td>\n",
       "      <td>F</td>\n",
       "      <td>55</td>\n",
       "      <td>5</td>\n",
       "      <td>27</td>\n",
       "      <td>2019</td>\n",
       "      <td>2</td>\n",
       "      <td>1</td>\n",
       "    </tr>\n",
       "    <tr>\n",
       "      <th>3</th>\n",
       "      <td>2019-02-01</td>\n",
       "      <td>110</td>\n",
       "      <td>517</td>\n",
       "      <td>10</td>\n",
       "      <td>M</td>\n",
       "      <td>20</td>\n",
       "      <td>11</td>\n",
       "      <td>243</td>\n",
       "      <td>2019</td>\n",
       "      <td>2</td>\n",
       "      <td>1</td>\n",
       "    </tr>\n",
       "    <tr>\n",
       "      <th>4</th>\n",
       "      <td>2019-02-01</td>\n",
       "      <td>110</td>\n",
       "      <td>517</td>\n",
       "      <td>10</td>\n",
       "      <td>M</td>\n",
       "      <td>25</td>\n",
       "      <td>11</td>\n",
       "      <td>433</td>\n",
       "      <td>2019</td>\n",
       "      <td>2</td>\n",
       "      <td>1</td>\n",
       "    </tr>\n",
       "  </tbody>\n",
       "</table>\n",
       "</div>"
      ],
      "text/plain": [
       "      STD_DD  GU_CD  DONG_CD  MCT_CAT_CD SEX_CD  AGE_CD  USE_CNT  USE_AMT  \\\n",
       "0 2019-02-01    110      517          10      F      25       11      595   \n",
       "1 2019-02-01    110      517          10      F      50        5      243   \n",
       "2 2019-02-01    110      517          10      F      55        5       27   \n",
       "3 2019-02-01    110      517          10      M      20       11      243   \n",
       "4 2019-02-01    110      517          10      M      25       11      433   \n",
       "\n",
       "   year  month  day  \n",
       "0  2019      2    1  \n",
       "1  2019      2    1  \n",
       "2  2019      2    1  \n",
       "3  2019      2    1  \n",
       "4  2019      2    1  "
      ]
     },
     "execution_count": 83,
     "metadata": {},
     "output_type": "execute_result"
    }
   ],
   "source": [
    "re_data['year'] = re_data['STD_DD'].dt.year\n",
    "re_data['month'] = re_data['STD_DD'].dt.month\n",
    "re_data['day'] = re_data['STD_DD'].dt.day\n",
    "re_data.head()"
   ]
  },
  {
   "cell_type": "code",
   "execution_count": 84,
   "metadata": {},
   "outputs": [],
   "source": [
    "def concatenate_year_month(STD_DD):\n",
    "    return '{0}-{1}'.format(STD_DD.year, STD_DD.month)\n",
    "\n",
    "re_data['year_month'] = re_data['STD_DD'].apply(concatenate_year_month)"
   ]
  },
  {
   "cell_type": "code",
   "execution_count": 85,
   "metadata": {},
   "outputs": [],
   "source": [
    "def concatenate_month_day(STD_DD):\n",
    "    return '{0}-{1}'.format(STD_DD.month, STD_DD.day)\n",
    "\n",
    "re_data['month_day'] = re_data['STD_DD'].apply(concatenate_month_day)"
   ]
  },
  {
   "cell_type": "code",
   "execution_count": 86,
   "metadata": {
    "scrolled": false
   },
   "outputs": [
    {
     "data": {
      "text/html": [
       "<div>\n",
       "<style scoped>\n",
       "    .dataframe tbody tr th:only-of-type {\n",
       "        vertical-align: middle;\n",
       "    }\n",
       "\n",
       "    .dataframe tbody tr th {\n",
       "        vertical-align: top;\n",
       "    }\n",
       "\n",
       "    .dataframe thead th {\n",
       "        text-align: right;\n",
       "    }\n",
       "</style>\n",
       "<table border=\"1\" class=\"dataframe\">\n",
       "  <thead>\n",
       "    <tr style=\"text-align: right;\">\n",
       "      <th></th>\n",
       "      <th>STD_DD</th>\n",
       "      <th>GU_CD</th>\n",
       "      <th>DONG_CD</th>\n",
       "      <th>MCT_CAT_CD</th>\n",
       "      <th>SEX_CD</th>\n",
       "      <th>AGE_CD</th>\n",
       "      <th>USE_CNT</th>\n",
       "      <th>USE_AMT</th>\n",
       "      <th>year</th>\n",
       "      <th>month</th>\n",
       "      <th>day</th>\n",
       "      <th>year_month</th>\n",
       "      <th>month_day</th>\n",
       "    </tr>\n",
       "  </thead>\n",
       "  <tbody>\n",
       "    <tr>\n",
       "      <th>0</th>\n",
       "      <td>2019-02-01</td>\n",
       "      <td>110</td>\n",
       "      <td>517</td>\n",
       "      <td>10</td>\n",
       "      <td>F</td>\n",
       "      <td>25</td>\n",
       "      <td>11</td>\n",
       "      <td>595</td>\n",
       "      <td>2019</td>\n",
       "      <td>2</td>\n",
       "      <td>1</td>\n",
       "      <td>2019-2</td>\n",
       "      <td>2-1</td>\n",
       "    </tr>\n",
       "    <tr>\n",
       "      <th>1</th>\n",
       "      <td>2019-02-01</td>\n",
       "      <td>110</td>\n",
       "      <td>517</td>\n",
       "      <td>10</td>\n",
       "      <td>F</td>\n",
       "      <td>50</td>\n",
       "      <td>5</td>\n",
       "      <td>243</td>\n",
       "      <td>2019</td>\n",
       "      <td>2</td>\n",
       "      <td>1</td>\n",
       "      <td>2019-2</td>\n",
       "      <td>2-1</td>\n",
       "    </tr>\n",
       "    <tr>\n",
       "      <th>2</th>\n",
       "      <td>2019-02-01</td>\n",
       "      <td>110</td>\n",
       "      <td>517</td>\n",
       "      <td>10</td>\n",
       "      <td>F</td>\n",
       "      <td>55</td>\n",
       "      <td>5</td>\n",
       "      <td>27</td>\n",
       "      <td>2019</td>\n",
       "      <td>2</td>\n",
       "      <td>1</td>\n",
       "      <td>2019-2</td>\n",
       "      <td>2-1</td>\n",
       "    </tr>\n",
       "    <tr>\n",
       "      <th>3</th>\n",
       "      <td>2019-02-01</td>\n",
       "      <td>110</td>\n",
       "      <td>517</td>\n",
       "      <td>10</td>\n",
       "      <td>M</td>\n",
       "      <td>20</td>\n",
       "      <td>11</td>\n",
       "      <td>243</td>\n",
       "      <td>2019</td>\n",
       "      <td>2</td>\n",
       "      <td>1</td>\n",
       "      <td>2019-2</td>\n",
       "      <td>2-1</td>\n",
       "    </tr>\n",
       "    <tr>\n",
       "      <th>4</th>\n",
       "      <td>2019-02-01</td>\n",
       "      <td>110</td>\n",
       "      <td>517</td>\n",
       "      <td>10</td>\n",
       "      <td>M</td>\n",
       "      <td>25</td>\n",
       "      <td>11</td>\n",
       "      <td>433</td>\n",
       "      <td>2019</td>\n",
       "      <td>2</td>\n",
       "      <td>1</td>\n",
       "      <td>2019-2</td>\n",
       "      <td>2-1</td>\n",
       "    </tr>\n",
       "  </tbody>\n",
       "</table>\n",
       "</div>"
      ],
      "text/plain": [
       "      STD_DD  GU_CD  DONG_CD  MCT_CAT_CD SEX_CD  AGE_CD  USE_CNT  USE_AMT  \\\n",
       "0 2019-02-01    110      517          10      F      25       11      595   \n",
       "1 2019-02-01    110      517          10      F      50        5      243   \n",
       "2 2019-02-01    110      517          10      F      55        5       27   \n",
       "3 2019-02-01    110      517          10      M      20       11      243   \n",
       "4 2019-02-01    110      517          10      M      25       11      433   \n",
       "\n",
       "   year  month  day year_month month_day  \n",
       "0  2019      2    1     2019-2       2-1  \n",
       "1  2019      2    1     2019-2       2-1  \n",
       "2  2019      2    1     2019-2       2-1  \n",
       "3  2019      2    1     2019-2       2-1  \n",
       "4  2019      2    1     2019-2       2-1  "
      ]
     },
     "execution_count": 86,
     "metadata": {},
     "output_type": "execute_result"
    }
   ],
   "source": [
    "re_data.head()"
   ]
  },
  {
   "cell_type": "code",
   "execution_count": 92,
   "metadata": {},
   "outputs": [
    {
     "data": {
      "image/png": "[encoded data removed]",
      "text/plain": [
       "<Figure size 1080x576 with 2 Axes>"
      ]
     },
     "metadata": {
      "needs_background": "light"
     },
     "output_type": "display_data"
    }
   ],
   "source": [
    "fig, ax = plt.subplots(2,1,figsize=(15,8))\n",
    "sns.pointplot(data=re_data, x='year_month', y='USE_CNT', hue='year', ax=ax[0], join=True)\n",
    "sns.pointplot(data=re_data, x='month', y='USE_CNT', hue='year', ax=ax[1], join=True)\n",
    "plt.show()"
   ]
  },
  {
   "cell_type": "code",
   "execution_count": 93,
   "metadata": {},
   "outputs": [],
   "source": [
    "re_data_19 = re_data[re_data['year'] == 2019].reset_index()\n",
    "re_data_20 = re_data[re_data['year'] == 2020].reset_index()"
   ]
  },
  {
   "cell_type": "code",
   "execution_count": 94,
   "metadata": {
    "scrolled": false
   },
   "outputs": [
    {
     "data": {
      "image/png": "[encoded data removed]",
      "text/plain": [
       "<Figure size 864x360 with 2 Axes>"
      ]
     },
     "metadata": {
      "needs_background": "light"
     },
     "output_type": "display_data"
    }
   ],
   "source": [
    "fig, ax = plt.subplots(1,2,figsize=(12,5))\n",
    "\n",
    "sns.barplot(data=re_data_19, x='SEX_CD', y='USE_CNT', ax=ax[0])\n",
    "ax[0].set(title='2019 CNT', xlabel = 'SEX', ylabel='USE_CNT')\n",
    "sns.barplot(data=re_data_20, x='SEX_CD', y='USE_CNT', ax=ax[1])\n",
    "ax[1].set(title='2020 CNT', xlabel = 'SEX', ylabel='USE_CNT')\n",
    "plt.show()"
   ]
  },
  {
   "cell_type": "code",
   "execution_count": 96,
   "metadata": {},
   "outputs": [
    {
     "data": {
      "text/plain": [
       "<pandas.core.groupby.generic.SeriesGroupBy object at 0x000001F885250E08>"
      ]
     },
     "execution_count": 96,
     "metadata": {},
     "output_type": "execute_result"
    }
   ],
   "source": []
  },
  {
   "cell_type": "code",
   "execution_count": null,
   "metadata": {},
   "outputs": [],
   "source": []
  },
  {
   "cell_type": "code",
   "execution_count": null,
   "metadata": {},
   "outputs": [],
   "source": []
  },
  {
   "cell_type": "code",
   "execution_count": null,
   "metadata": {},
   "outputs": [],
   "source": []
  }
 ],
 "metadata": {
  "kernelspec": {
   "display_name": "Python 3",
   "language": "python",
   "name": "python3"
  },
  "language_info": {
   "codemirror_mode": {
    "name": "ipython",
    "version": 3
   },
   "file_extension": ".py",
   "mimetype": "text/x-python",
   "name": "python",
   "nbconvert_exporter": "python",
   "pygments_lexer": "ipython3",
   "version": "3.7.6"
  }
 },
 "nbformat": 4,
 "nbformat_minor": 4
}
