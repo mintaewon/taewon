{
 "cells": [
  {
   "cell_type": "code",
   "execution_count": 70,
   "metadata": {},
   "outputs": [],
   "source": [
    "import numpy as np\n",
    "import pandas as pd\n",
    "import matplotlib\n",
    "import matplotlib.pyplot as plt\n",
    "import seaborn as sns\n",
    "from datetime import datetime"
   ]
  },
  {
   "cell_type": "markdown",
   "metadata": {},
   "source": [
    "# 내국인 카드 소비 데이터"
   ]
  },
  {
   "cell_type": "code",
   "execution_count": 79,
   "metadata": {},
   "outputs": [],
   "source": [
    "dt_card_resident=pd.read_csv('C:/bigcontest/data/shinhan_card/CARD_SPENDING_RESIDENT/CARD_SPENDING_RESIDENT.txt', delimiter = '\\t')"
   ]
  },
  {
   "cell_type": "code",
   "execution_count": 64,
   "metadata": {},
   "outputs": [
    {
     "data": {
      "text/html": [
       "<div>\n",
       "<style scoped>\n",
       "    .dataframe tbody tr th:only-of-type {\n",
       "        vertical-align: middle;\n",
       "    }\n",
       "\n",
       "    .dataframe tbody tr th {\n",
       "        vertical-align: top;\n",
       "    }\n",
       "\n",
       "    .dataframe thead th {\n",
       "        text-align: right;\n",
       "    }\n",
       "</style>\n",
       "<table border=\"1\" class=\"dataframe\">\n",
       "  <thead>\n",
       "    <tr style=\"text-align: right;\">\n",
       "      <th></th>\n",
       "      <th>STD_DD</th>\n",
       "      <th>GU_CD</th>\n",
       "      <th>DONG_CD</th>\n",
       "      <th>MCT_CAT_CD</th>\n",
       "      <th>SEX_CD</th>\n",
       "      <th>AGE_CD</th>\n",
       "      <th>USE_CNT</th>\n",
       "      <th>USE_AMT</th>\n",
       "    </tr>\n",
       "  </thead>\n",
       "  <tbody>\n",
       "    <tr>\n",
       "      <th>0</th>\n",
       "      <td>20190201</td>\n",
       "      <td>110</td>\n",
       "      <td>517</td>\n",
       "      <td>10</td>\n",
       "      <td>F</td>\n",
       "      <td>25</td>\n",
       "      <td>11</td>\n",
       "      <td>595</td>\n",
       "    </tr>\n",
       "    <tr>\n",
       "      <th>1</th>\n",
       "      <td>20190201</td>\n",
       "      <td>110</td>\n",
       "      <td>517</td>\n",
       "      <td>10</td>\n",
       "      <td>F</td>\n",
       "      <td>50</td>\n",
       "      <td>5</td>\n",
       "      <td>243</td>\n",
       "    </tr>\n",
       "    <tr>\n",
       "      <th>2</th>\n",
       "      <td>20190201</td>\n",
       "      <td>110</td>\n",
       "      <td>517</td>\n",
       "      <td>10</td>\n",
       "      <td>F</td>\n",
       "      <td>55</td>\n",
       "      <td>5</td>\n",
       "      <td>27</td>\n",
       "    </tr>\n",
       "    <tr>\n",
       "      <th>3</th>\n",
       "      <td>20190201</td>\n",
       "      <td>110</td>\n",
       "      <td>517</td>\n",
       "      <td>10</td>\n",
       "      <td>M</td>\n",
       "      <td>20</td>\n",
       "      <td>11</td>\n",
       "      <td>243</td>\n",
       "    </tr>\n",
       "    <tr>\n",
       "      <th>4</th>\n",
       "      <td>20190201</td>\n",
       "      <td>110</td>\n",
       "      <td>517</td>\n",
       "      <td>10</td>\n",
       "      <td>M</td>\n",
       "      <td>25</td>\n",
       "      <td>11</td>\n",
       "      <td>433</td>\n",
       "    </tr>\n",
       "  </tbody>\n",
       "</table>\n",
       "</div>"
      ],
      "text/plain": [
       "     STD_DD  GU_CD  DONG_CD  MCT_CAT_CD SEX_CD  AGE_CD  USE_CNT  USE_AMT\n",
       "0  20190201    110      517          10      F      25       11      595\n",
       "1  20190201    110      517          10      F      50        5      243\n",
       "2  20190201    110      517          10      F      55        5       27\n",
       "3  20190201    110      517          10      M      20       11      243\n",
       "4  20190201    110      517          10      M      25       11      433"
      ]
     },
     "execution_count": 64,
     "metadata": {},
     "output_type": "execute_result"
    }
   ],
   "source": [
    "dt_card_resident.head()"
   ]
  },
  {
   "cell_type": "code",
   "execution_count": 5,
   "metadata": {
    "scrolled": true
   },
   "outputs": [
    {
     "data": {
      "text/html": [
       "<div>\n",
       "<style scoped>\n",
       "    .dataframe tbody tr th:only-of-type {\n",
       "        vertical-align: middle;\n",
       "    }\n",
       "\n",
       "    .dataframe tbody tr th {\n",
       "        vertical-align: top;\n",
       "    }\n",
       "\n",
       "    .dataframe thead th {\n",
       "        text-align: right;\n",
       "    }\n",
       "</style>\n",
       "<table border=\"1\" class=\"dataframe\">\n",
       "  <thead>\n",
       "    <tr style=\"text-align: right;\">\n",
       "      <th></th>\n",
       "      <th>STD_DD</th>\n",
       "      <th>GU_CD</th>\n",
       "      <th>DONG_CD</th>\n",
       "      <th>MCT_CAT_CD</th>\n",
       "      <th>SEX_CD</th>\n",
       "      <th>AGE_CD</th>\n",
       "      <th>USE_CNT</th>\n",
       "      <th>USE_AMT</th>\n",
       "    </tr>\n",
       "  </thead>\n",
       "  <tbody>\n",
       "    <tr>\n",
       "      <th>2537748</th>\n",
       "      <td>20200531</td>\n",
       "      <td>350</td>\n",
       "      <td>720</td>\n",
       "      <td>81</td>\n",
       "      <td>M</td>\n",
       "      <td>45</td>\n",
       "      <td>19</td>\n",
       "      <td>127</td>\n",
       "    </tr>\n",
       "    <tr>\n",
       "      <th>2537749</th>\n",
       "      <td>20200531</td>\n",
       "      <td>350</td>\n",
       "      <td>720</td>\n",
       "      <td>81</td>\n",
       "      <td>M</td>\n",
       "      <td>50</td>\n",
       "      <td>33</td>\n",
       "      <td>211</td>\n",
       "    </tr>\n",
       "    <tr>\n",
       "      <th>2537750</th>\n",
       "      <td>20200531</td>\n",
       "      <td>350</td>\n",
       "      <td>720</td>\n",
       "      <td>81</td>\n",
       "      <td>M</td>\n",
       "      <td>55</td>\n",
       "      <td>9</td>\n",
       "      <td>61</td>\n",
       "    </tr>\n",
       "    <tr>\n",
       "      <th>2537751</th>\n",
       "      <td>20200531</td>\n",
       "      <td>350</td>\n",
       "      <td>720</td>\n",
       "      <td>81</td>\n",
       "      <td>M</td>\n",
       "      <td>60</td>\n",
       "      <td>19</td>\n",
       "      <td>194</td>\n",
       "    </tr>\n",
       "    <tr>\n",
       "      <th>2537752</th>\n",
       "      <td>20200531</td>\n",
       "      <td>350</td>\n",
       "      <td>720</td>\n",
       "      <td>81</td>\n",
       "      <td>M</td>\n",
       "      <td>65</td>\n",
       "      <td>5</td>\n",
       "      <td>29</td>\n",
       "    </tr>\n",
       "  </tbody>\n",
       "</table>\n",
       "</div>"
      ],
      "text/plain": [
       "           STD_DD  GU_CD  DONG_CD  MCT_CAT_CD SEX_CD  AGE_CD  USE_CNT  USE_AMT\n",
       "2537748  20200531    350      720          81      M      45       19      127\n",
       "2537749  20200531    350      720          81      M      50       33      211\n",
       "2537750  20200531    350      720          81      M      55        9       61\n",
       "2537751  20200531    350      720          81      M      60       19      194\n",
       "2537752  20200531    350      720          81      M      65        5       29"
      ]
     },
     "execution_count": 5,
     "metadata": {},
     "output_type": "execute_result"
    }
   ],
   "source": [
    "dt_card_resident.tail()"
   ]
  },
  {
   "cell_type": "code",
   "execution_count": 81,
   "metadata": {},
   "outputs": [],
   "source": [
    "dt_card_resident['STD_DD'] = dt_card_resident['STD_DD'].apply(str)"
   ]
  },
  {
   "cell_type": "code",
   "execution_count": 82,
   "metadata": {
    "scrolled": true
   },
   "outputs": [
    {
     "name": "stdout",
     "output_type": "stream",
     "text": [
      "<class 'pandas.core.frame.DataFrame'>\n",
      "RangeIndex: 2537753 entries, 0 to 2537752\n",
      "Data columns (total 8 columns):\n",
      " #   Column      Dtype \n",
      "---  ------      ----- \n",
      " 0   STD_DD      object\n",
      " 1   GU_CD       int64 \n",
      " 2   DONG_CD     int64 \n",
      " 3   MCT_CAT_CD  int64 \n",
      " 4   SEX_CD      object\n",
      " 5   AGE_CD      int64 \n",
      " 6   USE_CNT     int64 \n",
      " 7   USE_AMT     int64 \n",
      "dtypes: int64(6), object(2)\n",
      "memory usage: 154.9+ MB\n"
     ]
    }
   ],
   "source": [
    "dt_card_resident.info()"
   ]
  },
  {
   "cell_type": "code",
   "execution_count": 85,
   "metadata": {},
   "outputs": [],
   "source": [
    "dt_card_resident.STD_DD=pd.to_datetime(dt_card_resident.STD_DD)"
   ]
  },
  {
   "cell_type": "code",
   "execution_count": 86,
   "metadata": {},
   "outputs": [
    {
     "data": {
      "text/html": [
       "<div>\n",
       "<style scoped>\n",
       "    .dataframe tbody tr th:only-of-type {\n",
       "        vertical-align: middle;\n",
       "    }\n",
       "\n",
       "    .dataframe tbody tr th {\n",
       "        vertical-align: top;\n",
       "    }\n",
       "\n",
       "    .dataframe thead th {\n",
       "        text-align: right;\n",
       "    }\n",
       "</style>\n",
       "<table border=\"1\" class=\"dataframe\">\n",
       "  <thead>\n",
       "    <tr style=\"text-align: right;\">\n",
       "      <th></th>\n",
       "      <th>STD_DD</th>\n",
       "      <th>GU_CD</th>\n",
       "      <th>DONG_CD</th>\n",
       "      <th>MCT_CAT_CD</th>\n",
       "      <th>SEX_CD</th>\n",
       "      <th>AGE_CD</th>\n",
       "      <th>USE_CNT</th>\n",
       "      <th>USE_AMT</th>\n",
       "    </tr>\n",
       "  </thead>\n",
       "  <tbody>\n",
       "    <tr>\n",
       "      <th>0</th>\n",
       "      <td>2019-02-01</td>\n",
       "      <td>110</td>\n",
       "      <td>517</td>\n",
       "      <td>10</td>\n",
       "      <td>F</td>\n",
       "      <td>25</td>\n",
       "      <td>11</td>\n",
       "      <td>595</td>\n",
       "    </tr>\n",
       "    <tr>\n",
       "      <th>1</th>\n",
       "      <td>2019-02-01</td>\n",
       "      <td>110</td>\n",
       "      <td>517</td>\n",
       "      <td>10</td>\n",
       "      <td>F</td>\n",
       "      <td>50</td>\n",
       "      <td>5</td>\n",
       "      <td>243</td>\n",
       "    </tr>\n",
       "    <tr>\n",
       "      <th>2</th>\n",
       "      <td>2019-02-01</td>\n",
       "      <td>110</td>\n",
       "      <td>517</td>\n",
       "      <td>10</td>\n",
       "      <td>F</td>\n",
       "      <td>55</td>\n",
       "      <td>5</td>\n",
       "      <td>27</td>\n",
       "    </tr>\n",
       "    <tr>\n",
       "      <th>3</th>\n",
       "      <td>2019-02-01</td>\n",
       "      <td>110</td>\n",
       "      <td>517</td>\n",
       "      <td>10</td>\n",
       "      <td>M</td>\n",
       "      <td>20</td>\n",
       "      <td>11</td>\n",
       "      <td>243</td>\n",
       "    </tr>\n",
       "    <tr>\n",
       "      <th>4</th>\n",
       "      <td>2019-02-01</td>\n",
       "      <td>110</td>\n",
       "      <td>517</td>\n",
       "      <td>10</td>\n",
       "      <td>M</td>\n",
       "      <td>25</td>\n",
       "      <td>11</td>\n",
       "      <td>433</td>\n",
       "    </tr>\n",
       "  </tbody>\n",
       "</table>\n",
       "</div>"
      ],
      "text/plain": [
       "      STD_DD  GU_CD  DONG_CD  MCT_CAT_CD SEX_CD  AGE_CD  USE_CNT  USE_AMT\n",
       "0 2019-02-01    110      517          10      F      25       11      595\n",
       "1 2019-02-01    110      517          10      F      50        5      243\n",
       "2 2019-02-01    110      517          10      F      55        5       27\n",
       "3 2019-02-01    110      517          10      M      20       11      243\n",
       "4 2019-02-01    110      517          10      M      25       11      433"
      ]
     },
     "execution_count": 86,
     "metadata": {},
     "output_type": "execute_result"
    }
   ],
   "source": [
    "dt_card_resident.head()"
   ]
  },
  {
   "cell_type": "code",
   "execution_count": 7,
   "metadata": {
    "scrolled": true
   },
   "outputs": [
    {
     "data": {
      "text/plain": [
       "STD_DD        0\n",
       "GU_CD         0\n",
       "DONG_CD       0\n",
       "MCT_CAT_CD    0\n",
       "SEX_CD        0\n",
       "AGE_CD        0\n",
       "USE_CNT       0\n",
       "USE_AMT       0\n",
       "dtype: int64"
      ]
     },
     "execution_count": 7,
     "metadata": {},
     "output_type": "execute_result"
    }
   ],
   "source": [
    "dt_card_resident.isnull().sum()"
   ]
  },
  {
   "cell_type": "markdown",
   "metadata": {},
   "source": [
    "# STD_DD 기준일자"
   ]
  },
  {
   "cell_type": "code",
   "execution_count": 8,
   "metadata": {},
   "outputs": [
    {
     "data": {
      "text/plain": [
       "20190427    11915\n",
       "20190504    11903\n",
       "20190309    11869\n",
       "20200523    11802\n",
       "20190511    11800\n",
       "            ...  \n",
       "20200315     8031\n",
       "20200308     7882\n",
       "20200223     7834\n",
       "20200301     7625\n",
       "20190205     6710\n",
       "Name: STD_DD, Length: 241, dtype: int64"
      ]
     },
     "execution_count": 8,
     "metadata": {},
     "output_type": "execute_result"
    }
   ],
   "source": [
    "dt_card_resident.STD_DD.unique()\n",
    "dt_card_resident.STD_DD.value_counts()"
   ]
  },
  {
   "cell_type": "markdown",
   "metadata": {},
   "source": [
    "# GU_CD 구 코드\n",
    "\n",
    "140 - 서울 중구  \n",
    "350 - 서울 노원구  \n",
    "110 - 대구 중구  \n",
    "260 - 대구 수성구"
   ]
  },
  {
   "cell_type": "code",
   "execution_count": 9,
   "metadata": {},
   "outputs": [
    {
     "data": {
      "text/plain": [
       "350    761412\n",
       "260    746820\n",
       "140    667106\n",
       "110    362415\n",
       "Name: GU_CD, dtype: int64"
      ]
     },
     "execution_count": 9,
     "metadata": {},
     "output_type": "execute_result"
    }
   ],
   "source": [
    "dt_card_resident.GU_CD.unique()\n",
    "dt_card_resident.GU_CD.value_counts()"
   ]
  },
  {
   "cell_type": "markdown",
   "metadata": {},
   "source": [
    "# DONG_CD 동 코드"
   ]
  },
  {
   "cell_type": "code",
   "execution_count": 10,
   "metadata": {},
   "outputs": [
    {
     "data": {
      "text/plain": [
       "670    144986\n",
       "640    127335\n",
       "550    108809\n",
       "680    105980\n",
       "540    103374\n",
       "570     97804\n",
       "595     94899\n",
       "580     94525\n",
       "520     91711\n",
       "590     89509\n",
       "625     81089\n",
       "630     80088\n",
       "560     69696\n",
       "665     62836\n",
       "565     60065\n",
       "650     57814\n",
       "695     53205\n",
       "575     49697\n",
       "600     48723\n",
       "605     48695\n",
       "545     44764\n",
       "615     43799\n",
       "690     43572\n",
       "651     41552\n",
       "619     39166\n",
       "621     38954\n",
       "611     38483\n",
       "624     37937\n",
       "510     36796\n",
       "635     36593\n",
       "602     35544\n",
       "561     33169\n",
       "700     32201\n",
       "610     32091\n",
       "620     30731\n",
       "652     30579\n",
       "720     29328\n",
       "710     29018\n",
       "517     28247\n",
       "530     27521\n",
       "645     26585\n",
       "612     24990\n",
       "662     24352\n",
       "661     23441\n",
       "601     21333\n",
       "585     19767\n",
       "660     16400\n",
       "Name: DONG_CD, dtype: int64"
      ]
     },
     "execution_count": 10,
     "metadata": {},
     "output_type": "execute_result"
    }
   ],
   "source": [
    "dt_card_resident.DONG_CD.unique()\n",
    "dt_card_resident.DONG_CD.value_counts()"
   ]
  },
  {
   "cell_type": "markdown",
   "metadata": {},
   "source": [
    "# MCT_CAT_CD 업종코드"
   ]
  },
  {
   "cell_type": "code",
   "execution_count": 11,
   "metadata": {},
   "outputs": [
    {
     "data": {
      "text/plain": [
       "40    326560\n",
       "80    326471\n",
       "81    291322\n",
       "70    280001\n",
       "71    211651\n",
       "21    158288\n",
       "33    143343\n",
       "50    122479\n",
       "62    111545\n",
       "22     99595\n",
       "42     94797\n",
       "92     70101\n",
       "20     67506\n",
       "10     58095\n",
       "44     50400\n",
       "52     29515\n",
       "35     26769\n",
       "34     24659\n",
       "32     16120\n",
       "43     13810\n",
       "60      6666\n",
       "30      6102\n",
       "31      1958\n",
       "Name: MCT_CAT_CD, dtype: int64"
      ]
     },
     "execution_count": 11,
     "metadata": {},
     "output_type": "execute_result"
    }
   ],
   "source": [
    "dt_card_resident.MCT_CAT_CD.unique()\n",
    "dt_card_resident.MCT_CAT_CD.value_counts()"
   ]
  },
  {
   "cell_type": "markdown",
   "metadata": {},
   "source": [
    "# SEX_CD 성별 코드"
   ]
  },
  {
   "cell_type": "code",
   "execution_count": 12,
   "metadata": {},
   "outputs": [
    {
     "data": {
      "text/plain": [
       "M    1295256\n",
       "F    1242497\n",
       "Name: SEX_CD, dtype: int64"
      ]
     },
     "execution_count": 12,
     "metadata": {},
     "output_type": "execute_result"
    }
   ],
   "source": [
    "dt_card_resident.SEX_CD.unique()\n",
    "dt_card_resident.SEX_CD.value_counts()"
   ]
  },
  {
   "cell_type": "markdown",
   "metadata": {},
   "source": [
    "# AGE_CD 나이 코드"
   ]
  },
  {
   "cell_type": "code",
   "execution_count": 13,
   "metadata": {},
   "outputs": [
    {
     "data": {
      "text/plain": [
       "45    287695\n",
       "50    280996\n",
       "40    269982\n",
       "25    264405\n",
       "35    263903\n",
       "30    256633\n",
       "55    252090\n",
       "65    221656\n",
       "60    220820\n",
       "20    219573\n",
       "Name: AGE_CD, dtype: int64"
      ]
     },
     "execution_count": 13,
     "metadata": {},
     "output_type": "execute_result"
    }
   ],
   "source": [
    "dt_card_resident.AGE_CD.unique()\n",
    "dt_card_resident.AGE_CD.value_counts()"
   ]
  },
  {
   "cell_type": "markdown",
   "metadata": {},
   "source": [
    "# USE_CNT 이용건수"
   ]
  },
  {
   "cell_type": "code",
   "execution_count": 14,
   "metadata": {},
   "outputs": [
    {
     "data": {
      "text/plain": [
       "5        469236\n",
       "9        164783\n",
       "11       143280\n",
       "4         82974\n",
       "6         80148\n",
       "          ...  \n",
       "15402         1\n",
       "7214          1\n",
       "5167          1\n",
       "23589         1\n",
       "6147          1\n",
       "Name: USE_CNT, Length: 7507, dtype: int64"
      ]
     },
     "execution_count": 14,
     "metadata": {},
     "output_type": "execute_result"
    }
   ],
   "source": [
    "dt_card_resident.USE_CNT.unique()\n",
    "dt_card_resident.USE_CNT.value_counts()"
   ]
  },
  {
   "cell_type": "code",
   "execution_count": 15,
   "metadata": {},
   "outputs": [
    {
     "data": {
      "text/plain": [
       "AGE_CD\n",
       "20    345604059\n",
       "25    746116992\n",
       "30    726108683\n",
       "35    790366967\n",
       "40    756676736\n",
       "45    882011212\n",
       "50    793963553\n",
       "55    596300453\n",
       "60    430390045\n",
       "65    495977349\n",
       "Name: USE_AMT, dtype: int64"
      ]
     },
     "execution_count": 15,
     "metadata": {},
     "output_type": "execute_result"
    }
   ],
   "source": [
    "dt_card_resident.groupby('AGE_CD')['USE_AMT'].sum()"
   ]
  },
  {
   "cell_type": "code",
   "execution_count": 16,
   "metadata": {},
   "outputs": [
    {
     "data": {
      "text/plain": [
       "SEX_CD\n",
       "F    3289378278\n",
       "M    3274137771\n",
       "Name: USE_AMT, dtype: int64"
      ]
     },
     "execution_count": 16,
     "metadata": {},
     "output_type": "execute_result"
    }
   ],
   "source": [
    "dt_card_resident.groupby('SEX_CD')['USE_AMT'].sum()"
   ]
  },
  {
   "cell_type": "code",
   "execution_count": 17,
   "metadata": {},
   "outputs": [
    {
     "data": {
      "text/plain": [
       "SEX_CD  AGE_CD  MCT_CAT_CD\n",
       "F       20      10             2873\n",
       "                20             2011\n",
       "                21             9581\n",
       "                22             6348\n",
       "                30              109\n",
       "                              ...  \n",
       "M       65      70            14554\n",
       "                71             8383\n",
       "                80            16219\n",
       "                81            14459\n",
       "                92             2085\n",
       "Name: USE_AMT, Length: 460, dtype: int64"
      ]
     },
     "execution_count": 17,
     "metadata": {},
     "output_type": "execute_result"
    }
   ],
   "source": [
    "dt_card_resident.groupby(['SEX_CD','AGE_CD','MCT_CAT_CD'])['USE_AMT'].count()"
   ]
  },
  {
   "cell_type": "code",
   "execution_count": 18,
   "metadata": {},
   "outputs": [
    {
     "data": {
      "image/png": "[encoded data removed]",
      "text/plain": [
       "<Figure size 432x288 with 1 Axes>"
      ]
     },
     "metadata": {
      "needs_background": "light"
     },
     "output_type": "display_data"
    }
   ],
   "source": [
    "sns.countplot(dt_card_resident['SEX_CD'])\n",
    "plt.show()"
   ]
  },
  {
   "cell_type": "code",
   "execution_count": 19,
   "metadata": {},
   "outputs": [
    {
     "data": {
      "image/png": "[encoded data removed]",
      "text/plain": [
       "<Figure size 432x288 with 1 Axes>"
      ]
     },
     "metadata": {
      "needs_background": "light"
     },
     "output_type": "display_data"
    }
   ],
   "source": [
    "sns.countplot(dt_card_resident['AGE_CD'])\n",
    "plt.show()"
   ]
  },
  {
   "cell_type": "code",
   "execution_count": 20,
   "metadata": {},
   "outputs": [
    {
     "data": {
      "image/png": "[encoded data removed]",
      "text/plain": [
       "<Figure size 504x504 with 1 Axes>"
      ]
     },
     "metadata": {
      "needs_background": "light"
     },
     "output_type": "display_data"
    }
   ],
   "source": [
    "plt.figure(figsize=(7, 7))\n",
    "sns.countplot(y = dt_card_resident['AGE_CD'], palette=\"Set2\", hue=dt_card_resident['SEX_CD'])\n",
    "plt.legend(loc=4)\n",
    "plt.tight_layout()\n",
    "plt.show()"
   ]
  },
  {
   "cell_type": "code",
   "execution_count": 21,
   "metadata": {
    "scrolled": true
   },
   "outputs": [
    {
     "data": {
      "image/png": "[encoded data removed]",
      "text/plain": [
       "<Figure size 504x504 with 1 Axes>"
      ]
     },
     "metadata": {
      "needs_background": "light"
     },
     "output_type": "display_data"
    }
   ],
   "source": [
    "plt.figure(figsize=(7, 7))\n",
    "sns.countplot(y = dt_card_resident['MCT_CAT_CD'], palette=\"Set2\", hue=dt_card_resident['SEX_CD'])\n",
    "plt.legend(loc=4)\n",
    "plt.tight_layout()\n",
    "plt.show()"
   ]
  },
  {
   "cell_type": "markdown",
   "metadata": {},
   "source": [
    "## 위 그래프에서 21법 업종을 이용하는 남성의 수가 많은것을 알 수 있음"
   ]
  },
  {
   "cell_type": "code",
   "execution_count": 22,
   "metadata": {},
   "outputs": [
    {
     "data": {
      "image/png": "[encoded data removed]",
      "text/plain": [
       "<Figure size 432x288 with 1 Axes>"
      ]
     },
     "metadata": {
      "needs_background": "light"
     },
     "output_type": "display_data"
    }
   ],
   "source": [
    "sns.countplot(dt_card_resident['GU_CD'], hue=dt_card_resident['SEX_CD'])\n",
    "plt.legend(loc=2)\n",
    "plt.tight_layout()\n",
    "plt.show()"
   ]
  },
  {
   "cell_type": "code",
   "execution_count": 23,
   "metadata": {
    "scrolled": true
   },
   "outputs": [
    {
     "data": {
      "image/png": "[encoded data removed]",
      "text/plain": [
       "<Figure size 864x288 with 1 Axes>"
      ]
     },
     "metadata": {
      "needs_background": "light"
     },
     "output_type": "display_data"
    }
   ],
   "source": [
    "plt.figure(figsize=(12, 4))\n",
    "sns.countplot(dt_card_resident['DONG_CD'], hue=dt_card_resident['SEX_CD'])\n",
    "plt.legend(loc=2)\n",
    "plt.tight_layout()\n",
    "plt.xticks(rotation=45)\n",
    "plt.show()"
   ]
  },
  {
   "cell_type": "code",
   "execution_count": 24,
   "metadata": {},
   "outputs": [
    {
     "data": {
      "text/plain": [
       "7          50\n",
       "8          20\n",
       "9          25\n",
       "10         30\n",
       "11         35\n",
       "           ..\n",
       "2537639    20\n",
       "2537640    25\n",
       "2537641    30\n",
       "2537642    50\n",
       "2537643    55\n",
       "Name: AGE_CD, Length: 158288, dtype: int64"
      ]
     },
     "execution_count": 24,
     "metadata": {},
     "output_type": "execute_result"
    }
   ],
   "source": [
    "dt_card_resident[dt_card_resident['MCT_CAT_CD'] == 21].AGE_CD"
   ]
  },
  {
   "cell_type": "code",
   "execution_count": 25,
   "metadata": {},
   "outputs": [
    {
     "data": {
      "text/html": [
       "<div>\n",
       "<style scoped>\n",
       "    .dataframe tbody tr th:only-of-type {\n",
       "        vertical-align: middle;\n",
       "    }\n",
       "\n",
       "    .dataframe tbody tr th {\n",
       "        vertical-align: top;\n",
       "    }\n",
       "\n",
       "    .dataframe thead th {\n",
       "        text-align: right;\n",
       "    }\n",
       "</style>\n",
       "<table border=\"1\" class=\"dataframe\">\n",
       "  <thead>\n",
       "    <tr style=\"text-align: right;\">\n",
       "      <th></th>\n",
       "      <th>STD_DD</th>\n",
       "      <th>GU_CD</th>\n",
       "      <th>DONG_CD</th>\n",
       "      <th>MCT_CAT_CD</th>\n",
       "      <th>SEX_CD</th>\n",
       "      <th>AGE_CD</th>\n",
       "      <th>USE_CNT</th>\n",
       "      <th>USE_AMT</th>\n",
       "    </tr>\n",
       "  </thead>\n",
       "  <tbody>\n",
       "    <tr>\n",
       "      <th>8</th>\n",
       "      <td>20190201</td>\n",
       "      <td>110</td>\n",
       "      <td>517</td>\n",
       "      <td>21</td>\n",
       "      <td>M</td>\n",
       "      <td>20</td>\n",
       "      <td>5</td>\n",
       "      <td>43</td>\n",
       "    </tr>\n",
       "    <tr>\n",
       "      <th>9</th>\n",
       "      <td>20190201</td>\n",
       "      <td>110</td>\n",
       "      <td>517</td>\n",
       "      <td>21</td>\n",
       "      <td>M</td>\n",
       "      <td>25</td>\n",
       "      <td>16</td>\n",
       "      <td>103</td>\n",
       "    </tr>\n",
       "    <tr>\n",
       "      <th>10</th>\n",
       "      <td>20190201</td>\n",
       "      <td>110</td>\n",
       "      <td>517</td>\n",
       "      <td>21</td>\n",
       "      <td>M</td>\n",
       "      <td>30</td>\n",
       "      <td>11</td>\n",
       "      <td>184</td>\n",
       "    </tr>\n",
       "    <tr>\n",
       "      <th>11</th>\n",
       "      <td>20190201</td>\n",
       "      <td>110</td>\n",
       "      <td>517</td>\n",
       "      <td>21</td>\n",
       "      <td>M</td>\n",
       "      <td>35</td>\n",
       "      <td>27</td>\n",
       "      <td>622</td>\n",
       "    </tr>\n",
       "    <tr>\n",
       "      <th>12</th>\n",
       "      <td>20190201</td>\n",
       "      <td>110</td>\n",
       "      <td>517</td>\n",
       "      <td>21</td>\n",
       "      <td>M</td>\n",
       "      <td>40</td>\n",
       "      <td>11</td>\n",
       "      <td>238</td>\n",
       "    </tr>\n",
       "    <tr>\n",
       "      <th>...</th>\n",
       "      <td>...</td>\n",
       "      <td>...</td>\n",
       "      <td>...</td>\n",
       "      <td>...</td>\n",
       "      <td>...</td>\n",
       "      <td>...</td>\n",
       "      <td>...</td>\n",
       "      <td>...</td>\n",
       "    </tr>\n",
       "    <tr>\n",
       "      <th>2537639</th>\n",
       "      <td>20200531</td>\n",
       "      <td>350</td>\n",
       "      <td>720</td>\n",
       "      <td>21</td>\n",
       "      <td>M</td>\n",
       "      <td>20</td>\n",
       "      <td>14</td>\n",
       "      <td>178</td>\n",
       "    </tr>\n",
       "    <tr>\n",
       "      <th>2537640</th>\n",
       "      <td>20200531</td>\n",
       "      <td>350</td>\n",
       "      <td>720</td>\n",
       "      <td>21</td>\n",
       "      <td>M</td>\n",
       "      <td>25</td>\n",
       "      <td>9</td>\n",
       "      <td>360</td>\n",
       "    </tr>\n",
       "    <tr>\n",
       "      <th>2537641</th>\n",
       "      <td>20200531</td>\n",
       "      <td>350</td>\n",
       "      <td>720</td>\n",
       "      <td>21</td>\n",
       "      <td>M</td>\n",
       "      <td>30</td>\n",
       "      <td>5</td>\n",
       "      <td>56</td>\n",
       "    </tr>\n",
       "    <tr>\n",
       "      <th>2537642</th>\n",
       "      <td>20200531</td>\n",
       "      <td>350</td>\n",
       "      <td>720</td>\n",
       "      <td>21</td>\n",
       "      <td>M</td>\n",
       "      <td>50</td>\n",
       "      <td>5</td>\n",
       "      <td>168</td>\n",
       "    </tr>\n",
       "    <tr>\n",
       "      <th>2537643</th>\n",
       "      <td>20200531</td>\n",
       "      <td>350</td>\n",
       "      <td>720</td>\n",
       "      <td>21</td>\n",
       "      <td>M</td>\n",
       "      <td>55</td>\n",
       "      <td>5</td>\n",
       "      <td>98</td>\n",
       "    </tr>\n",
       "  </tbody>\n",
       "</table>\n",
       "<p>96565 rows × 8 columns</p>\n",
       "</div>"
      ],
      "text/plain": [
       "           STD_DD  GU_CD  DONG_CD  MCT_CAT_CD SEX_CD  AGE_CD  USE_CNT  USE_AMT\n",
       "8        20190201    110      517          21      M      20        5       43\n",
       "9        20190201    110      517          21      M      25       16      103\n",
       "10       20190201    110      517          21      M      30       11      184\n",
       "11       20190201    110      517          21      M      35       27      622\n",
       "12       20190201    110      517          21      M      40       11      238\n",
       "...           ...    ...      ...         ...    ...     ...      ...      ...\n",
       "2537639  20200531    350      720          21      M      20       14      178\n",
       "2537640  20200531    350      720          21      M      25        9      360\n",
       "2537641  20200531    350      720          21      M      30        5       56\n",
       "2537642  20200531    350      720          21      M      50        5      168\n",
       "2537643  20200531    350      720          21      M      55        5       98\n",
       "\n",
       "[96565 rows x 8 columns]"
      ]
     },
     "execution_count": 25,
     "metadata": {},
     "output_type": "execute_result"
    }
   ],
   "source": [
    "dt_card_resident[(dt_card_resident['MCT_CAT_CD'] == 21) & (dt_card_resident['SEX_CD'] == 'M')]"
   ]
  },
  {
   "cell_type": "markdown",
   "metadata": {},
   "source": []
  },
  {
   "cell_type": "code",
   "execution_count": 26,
   "metadata": {},
   "outputs": [],
   "source": [
    "data_21M = dt_card_resident[(dt_card_resident['MCT_CAT_CD'] == 21) & (dt_card_resident['SEX_CD'] == 'M')]"
   ]
  },
  {
   "cell_type": "markdown",
   "metadata": {},
   "source": [
    "### 21번 업종을 이용한 남성의 나이별 사용 금액"
   ]
  },
  {
   "cell_type": "code",
   "execution_count": 27,
   "metadata": {},
   "outputs": [
    {
     "data": {
      "image/png": "[encoded data removed]",
      "text/plain": [
       "<Figure size 432x288 with 1 Axes>"
      ]
     },
     "metadata": {
      "needs_background": "light"
     },
     "output_type": "display_data"
    }
   ],
   "source": [
    "sns.barplot(data = data_21M, x='AGE_CD', y='USE_AMT')\n",
    "plt.show()"
   ]
  },
  {
   "cell_type": "markdown",
   "metadata": {},
   "source": [
    "### 21번 업종을 이용한 남성의 나이별 이용 횟수"
   ]
  },
  {
   "cell_type": "code",
   "execution_count": 28,
   "metadata": {
    "scrolled": true
   },
   "outputs": [
    {
     "data": {
      "image/png": "[encoded data removed]",
      "text/plain": [
       "<Figure size 432x288 with 1 Axes>"
      ]
     },
     "metadata": {
      "needs_background": "light"
     },
     "output_type": "display_data"
    }
   ],
   "source": [
    "sns.barplot(data = data_21M, x='AGE_CD', y='USE_CNT')\n",
    "plt.show()"
   ]
  },
  {
   "cell_type": "code",
   "execution_count": 29,
   "metadata": {},
   "outputs": [
    {
     "data": {
      "image/png": "[encoded data removed]",
      "text/plain": [
       "<Figure size 936x504 with 1 Axes>"
      ]
     },
     "metadata": {
      "needs_background": "light"
     },
     "output_type": "display_data"
    }
   ],
   "source": [
    "plt.figure(figsize=(13, 7))\n",
    "sns.countplot(dt_card_resident['MCT_CAT_CD'], hue=dt_card_resident['GU_CD'])\n",
    "plt.show()"
   ]
  },
  {
   "cell_type": "markdown",
   "metadata": {},
   "source": [
    "140 - 서울 중구(주황)  \n",
    "350 - 서울 노원구(빨강)  \n",
    "110 - 대구 중구(파랑)  \n",
    "260 - 대구 수성구(초록)"
   ]
  },
  {
   "cell_type": "markdown",
   "metadata": {},
   "source": [
    "#### 눈에 띄게 높은 260(대구 수성구)의 40번 업종(유통업)을 분석해보도록 한다"
   ]
  },
  {
   "cell_type": "markdown",
   "metadata": {},
   "source": [
    "## 대구 수성구의 40업종 (유통업) 분석"
   ]
  },
  {
   "cell_type": "code",
   "execution_count": 30,
   "metadata": {},
   "outputs": [
    {
     "data": {
      "text/html": [
       "<div>\n",
       "<style scoped>\n",
       "    .dataframe tbody tr th:only-of-type {\n",
       "        vertical-align: middle;\n",
       "    }\n",
       "\n",
       "    .dataframe tbody tr th {\n",
       "        vertical-align: top;\n",
       "    }\n",
       "\n",
       "    .dataframe thead th {\n",
       "        text-align: right;\n",
       "    }\n",
       "</style>\n",
       "<table border=\"1\" class=\"dataframe\">\n",
       "  <thead>\n",
       "    <tr style=\"text-align: right;\">\n",
       "      <th></th>\n",
       "      <th>STD_DD</th>\n",
       "      <th>GU_CD</th>\n",
       "      <th>DONG_CD</th>\n",
       "      <th>MCT_CAT_CD</th>\n",
       "      <th>SEX_CD</th>\n",
       "      <th>AGE_CD</th>\n",
       "      <th>USE_CNT</th>\n",
       "      <th>USE_AMT</th>\n",
       "    </tr>\n",
       "  </thead>\n",
       "  <tbody>\n",
       "    <tr>\n",
       "      <th>4620</th>\n",
       "      <td>20190201</td>\n",
       "      <td>260</td>\n",
       "      <td>510</td>\n",
       "      <td>40</td>\n",
       "      <td>F</td>\n",
       "      <td>20</td>\n",
       "      <td>108</td>\n",
       "      <td>474</td>\n",
       "    </tr>\n",
       "    <tr>\n",
       "      <th>4621</th>\n",
       "      <td>20190201</td>\n",
       "      <td>260</td>\n",
       "      <td>510</td>\n",
       "      <td>40</td>\n",
       "      <td>F</td>\n",
       "      <td>25</td>\n",
       "      <td>130</td>\n",
       "      <td>1122</td>\n",
       "    </tr>\n",
       "    <tr>\n",
       "      <th>4622</th>\n",
       "      <td>20190201</td>\n",
       "      <td>260</td>\n",
       "      <td>510</td>\n",
       "      <td>40</td>\n",
       "      <td>F</td>\n",
       "      <td>30</td>\n",
       "      <td>124</td>\n",
       "      <td>816</td>\n",
       "    </tr>\n",
       "    <tr>\n",
       "      <th>4623</th>\n",
       "      <td>20190201</td>\n",
       "      <td>260</td>\n",
       "      <td>510</td>\n",
       "      <td>40</td>\n",
       "      <td>F</td>\n",
       "      <td>35</td>\n",
       "      <td>119</td>\n",
       "      <td>3357</td>\n",
       "    </tr>\n",
       "    <tr>\n",
       "      <th>4624</th>\n",
       "      <td>20190201</td>\n",
       "      <td>260</td>\n",
       "      <td>510</td>\n",
       "      <td>40</td>\n",
       "      <td>F</td>\n",
       "      <td>40</td>\n",
       "      <td>206</td>\n",
       "      <td>4651</td>\n",
       "    </tr>\n",
       "    <tr>\n",
       "      <th>...</th>\n",
       "      <td>...</td>\n",
       "      <td>...</td>\n",
       "      <td>...</td>\n",
       "      <td>...</td>\n",
       "      <td>...</td>\n",
       "      <td>...</td>\n",
       "      <td>...</td>\n",
       "      <td>...</td>\n",
       "    </tr>\n",
       "    <tr>\n",
       "      <th>2534616</th>\n",
       "      <td>20200531</td>\n",
       "      <td>260</td>\n",
       "      <td>690</td>\n",
       "      <td>40</td>\n",
       "      <td>M</td>\n",
       "      <td>45</td>\n",
       "      <td>525</td>\n",
       "      <td>9365</td>\n",
       "    </tr>\n",
       "    <tr>\n",
       "      <th>2534617</th>\n",
       "      <td>20200531</td>\n",
       "      <td>260</td>\n",
       "      <td>690</td>\n",
       "      <td>40</td>\n",
       "      <td>M</td>\n",
       "      <td>50</td>\n",
       "      <td>585</td>\n",
       "      <td>10314</td>\n",
       "    </tr>\n",
       "    <tr>\n",
       "      <th>2534618</th>\n",
       "      <td>20200531</td>\n",
       "      <td>260</td>\n",
       "      <td>690</td>\n",
       "      <td>40</td>\n",
       "      <td>M</td>\n",
       "      <td>55</td>\n",
       "      <td>399</td>\n",
       "      <td>7956</td>\n",
       "    </tr>\n",
       "    <tr>\n",
       "      <th>2534619</th>\n",
       "      <td>20200531</td>\n",
       "      <td>260</td>\n",
       "      <td>690</td>\n",
       "      <td>40</td>\n",
       "      <td>M</td>\n",
       "      <td>60</td>\n",
       "      <td>246</td>\n",
       "      <td>3177</td>\n",
       "    </tr>\n",
       "    <tr>\n",
       "      <th>2534620</th>\n",
       "      <td>20200531</td>\n",
       "      <td>260</td>\n",
       "      <td>690</td>\n",
       "      <td>40</td>\n",
       "      <td>M</td>\n",
       "      <td>65</td>\n",
       "      <td>246</td>\n",
       "      <td>5225</td>\n",
       "    </tr>\n",
       "  </tbody>\n",
       "</table>\n",
       "<p>110567 rows × 8 columns</p>\n",
       "</div>"
      ],
      "text/plain": [
       "           STD_DD  GU_CD  DONG_CD  MCT_CAT_CD SEX_CD  AGE_CD  USE_CNT  USE_AMT\n",
       "4620     20190201    260      510          40      F      20      108      474\n",
       "4621     20190201    260      510          40      F      25      130     1122\n",
       "4622     20190201    260      510          40      F      30      124      816\n",
       "4623     20190201    260      510          40      F      35      119     3357\n",
       "4624     20190201    260      510          40      F      40      206     4651\n",
       "...           ...    ...      ...         ...    ...     ...      ...      ...\n",
       "2534616  20200531    260      690          40      M      45      525     9365\n",
       "2534617  20200531    260      690          40      M      50      585    10314\n",
       "2534618  20200531    260      690          40      M      55      399     7956\n",
       "2534619  20200531    260      690          40      M      60      246     3177\n",
       "2534620  20200531    260      690          40      M      65      246     5225\n",
       "\n",
       "[110567 rows x 8 columns]"
      ]
     },
     "execution_count": 30,
     "metadata": {},
     "output_type": "execute_result"
    }
   ],
   "source": [
    "dt_card_resident[(dt_card_resident['MCT_CAT_CD'] == 40) & (dt_card_resident['GU_CD'] == 260)]"
   ]
  },
  {
   "cell_type": "code",
   "execution_count": 31,
   "metadata": {},
   "outputs": [],
   "source": [
    "data_40260 = dt_card_resident[(dt_card_resident['MCT_CAT_CD'] == 40) & (dt_card_resident['GU_CD'] == 260)]"
   ]
  },
  {
   "cell_type": "code",
   "execution_count": 32,
   "metadata": {},
   "outputs": [
    {
     "data": {
      "image/png": "[encoded data removed]",
      "text/plain": [
       "<Figure size 432x288 with 1 Axes>"
      ]
     },
     "metadata": {
      "needs_background": "light"
     },
     "output_type": "display_data"
    }
   ],
   "source": [
    "sns.barplot(data = data_40260, x='AGE_CD', y='USE_CNT', hue=dt_card_resident['SEX_CD'])\n",
    "plt.show()"
   ]
  },
  {
   "cell_type": "code",
   "execution_count": 33,
   "metadata": {},
   "outputs": [
    {
     "data": {
      "image/png": "[encoded data removed]",
      "text/plain": [
       "<Figure size 432x288 with 1 Axes>"
      ]
     },
     "metadata": {
      "needs_background": "light"
     },
     "output_type": "display_data"
    }
   ],
   "source": [
    "sns.barplot(data = data_40260, x='AGE_CD', y='USE_AMT', hue=dt_card_resident['SEX_CD'])\n",
    "plt.show()"
   ]
  },
  {
   "cell_type": "markdown",
   "metadata": {},
   "source": [
    "대구 수성구의 25-45세 사이의 여성들이 이용하는 횟수는 많지만 금액은 남성과 큰 차이가 없다는것을 알 수 있다.  \n",
    "45-50 사이의 남성들이 사용하는 금액의 크기가 크다는 것을 알 수 있다."
   ]
  },
  {
   "cell_type": "code",
   "execution_count": 115,
   "metadata": {},
   "outputs": [
    {
     "data": {
      "text/plain": [
       "STD_DD\n",
       "2019-02-01    11348\n",
       "2019-02-02    11426\n",
       "2019-02-03     9282\n",
       "2019-02-04     9082\n",
       "2019-02-05     6710\n",
       "              ...  \n",
       "2020-05-27    11199\n",
       "2020-05-28    11073\n",
       "2020-05-29    11324\n",
       "2020-05-30    11665\n",
       "2020-05-31     9615\n",
       "Name: USE_CNT, Length: 241, dtype: int64"
      ]
     },
     "execution_count": 115,
     "metadata": {},
     "output_type": "execute_result"
    }
   ],
   "source": [
    "dt_card_resident.groupby('STD_DD')['USE_CNT'].count()"
   ]
  },
  {
   "cell_type": "markdown",
   "metadata": {},
   "source": [
    "# 외국인 카드 소비 데이터"
   ]
  },
  {
   "cell_type": "code",
   "execution_count": 99,
   "metadata": {},
   "outputs": [],
   "source": [
    "dt_card_foreigner=pd.read_csv('C:/bigcontest/data/shinhan_card/CARD_SPENDING_FOREIGNER/CARD_SPENDING_FOREIGNER.txt', encoding='euc-kr', delimiter = '\\t')"
   ]
  },
  {
   "cell_type": "code",
   "execution_count": 35,
   "metadata": {},
   "outputs": [
    {
     "data": {
      "text/html": [
       "<div>\n",
       "<style scoped>\n",
       "    .dataframe tbody tr th:only-of-type {\n",
       "        vertical-align: middle;\n",
       "    }\n",
       "\n",
       "    .dataframe tbody tr th {\n",
       "        vertical-align: top;\n",
       "    }\n",
       "\n",
       "    .dataframe thead th {\n",
       "        text-align: right;\n",
       "    }\n",
       "</style>\n",
       "<table border=\"1\" class=\"dataframe\">\n",
       "  <thead>\n",
       "    <tr style=\"text-align: right;\">\n",
       "      <th></th>\n",
       "      <th>STD_DD</th>\n",
       "      <th>GU_CD</th>\n",
       "      <th>DONG_CD</th>\n",
       "      <th>MCT_CAT_CD</th>\n",
       "      <th>COUNTRY_NM</th>\n",
       "      <th>USE_CNT</th>\n",
       "      <th>USE_AMT</th>\n",
       "    </tr>\n",
       "  </thead>\n",
       "  <tbody>\n",
       "    <tr>\n",
       "      <th>0</th>\n",
       "      <td>20190204</td>\n",
       "      <td>260</td>\n",
       "      <td>510</td>\n",
       "      <td>81</td>\n",
       "      <td>대만</td>\n",
       "      <td>2</td>\n",
       "      <td>30.0</td>\n",
       "    </tr>\n",
       "    <tr>\n",
       "      <th>1</th>\n",
       "      <td>20190213</td>\n",
       "      <td>260</td>\n",
       "      <td>510</td>\n",
       "      <td>40</td>\n",
       "      <td>대만</td>\n",
       "      <td>2</td>\n",
       "      <td>32.0</td>\n",
       "    </tr>\n",
       "    <tr>\n",
       "      <th>2</th>\n",
       "      <td>20190416</td>\n",
       "      <td>260</td>\n",
       "      <td>510</td>\n",
       "      <td>40</td>\n",
       "      <td>대만</td>\n",
       "      <td>2</td>\n",
       "      <td>16.0</td>\n",
       "    </tr>\n",
       "    <tr>\n",
       "      <th>3</th>\n",
       "      <td>20190419</td>\n",
       "      <td>260</td>\n",
       "      <td>510</td>\n",
       "      <td>42</td>\n",
       "      <td>대만</td>\n",
       "      <td>3</td>\n",
       "      <td>610.0</td>\n",
       "    </tr>\n",
       "    <tr>\n",
       "      <th>4</th>\n",
       "      <td>20190308</td>\n",
       "      <td>260</td>\n",
       "      <td>510</td>\n",
       "      <td>10</td>\n",
       "      <td>대만</td>\n",
       "      <td>7</td>\n",
       "      <td>629.0</td>\n",
       "    </tr>\n",
       "  </tbody>\n",
       "</table>\n",
       "</div>"
      ],
      "text/plain": [
       "     STD_DD  GU_CD  DONG_CD  MCT_CAT_CD COUNTRY_NM  USE_CNT  USE_AMT\n",
       "0  20190204    260      510          81         대만        2     30.0\n",
       "1  20190213    260      510          40         대만        2     32.0\n",
       "2  20190416    260      510          40         대만        2     16.0\n",
       "3  20190419    260      510          42         대만        3    610.0\n",
       "4  20190308    260      510          10         대만        7    629.0"
      ]
     },
     "execution_count": 35,
     "metadata": {},
     "output_type": "execute_result"
    }
   ],
   "source": [
    "dt_card_foreigner.head()"
   ]
  },
  {
   "cell_type": "code",
   "execution_count": 36,
   "metadata": {},
   "outputs": [
    {
     "data": {
      "text/html": [
       "<div>\n",
       "<style scoped>\n",
       "    .dataframe tbody tr th:only-of-type {\n",
       "        vertical-align: middle;\n",
       "    }\n",
       "\n",
       "    .dataframe tbody tr th {\n",
       "        vertical-align: top;\n",
       "    }\n",
       "\n",
       "    .dataframe thead th {\n",
       "        text-align: right;\n",
       "    }\n",
       "</style>\n",
       "<table border=\"1\" class=\"dataframe\">\n",
       "  <thead>\n",
       "    <tr style=\"text-align: right;\">\n",
       "      <th></th>\n",
       "      <th>STD_DD</th>\n",
       "      <th>GU_CD</th>\n",
       "      <th>DONG_CD</th>\n",
       "      <th>MCT_CAT_CD</th>\n",
       "      <th>COUNTRY_NM</th>\n",
       "      <th>USE_CNT</th>\n",
       "      <th>USE_AMT</th>\n",
       "    </tr>\n",
       "  </thead>\n",
       "  <tbody>\n",
       "    <tr>\n",
       "      <th>238824</th>\n",
       "      <td>20200507</td>\n",
       "      <td>350</td>\n",
       "      <td>640</td>\n",
       "      <td>40</td>\n",
       "      <td>오스트레일리아</td>\n",
       "      <td>6</td>\n",
       "      <td>29.0</td>\n",
       "    </tr>\n",
       "    <tr>\n",
       "      <th>238825</th>\n",
       "      <td>20200512</td>\n",
       "      <td>350</td>\n",
       "      <td>612</td>\n",
       "      <td>40</td>\n",
       "      <td>오스트레일리아</td>\n",
       "      <td>3</td>\n",
       "      <td>15.0</td>\n",
       "    </tr>\n",
       "    <tr>\n",
       "      <th>238826</th>\n",
       "      <td>20200512</td>\n",
       "      <td>350</td>\n",
       "      <td>670</td>\n",
       "      <td>40</td>\n",
       "      <td>오스트레일리아</td>\n",
       "      <td>2</td>\n",
       "      <td>13.0</td>\n",
       "    </tr>\n",
       "    <tr>\n",
       "      <th>238827</th>\n",
       "      <td>20200516</td>\n",
       "      <td>350</td>\n",
       "      <td>640</td>\n",
       "      <td>71</td>\n",
       "      <td>오스트레일리아</td>\n",
       "      <td>1</td>\n",
       "      <td>39.0</td>\n",
       "    </tr>\n",
       "    <tr>\n",
       "      <th>238828</th>\n",
       "      <td>20200522</td>\n",
       "      <td>350</td>\n",
       "      <td>595</td>\n",
       "      <td>33</td>\n",
       "      <td>오스트레일리아</td>\n",
       "      <td>1</td>\n",
       "      <td>50.0</td>\n",
       "    </tr>\n",
       "  </tbody>\n",
       "</table>\n",
       "</div>"
      ],
      "text/plain": [
       "          STD_DD  GU_CD  DONG_CD  MCT_CAT_CD COUNTRY_NM  USE_CNT  USE_AMT\n",
       "238824  20200507    350      640          40    오스트레일리아        6     29.0\n",
       "238825  20200512    350      612          40    오스트레일리아        3     15.0\n",
       "238826  20200512    350      670          40    오스트레일리아        2     13.0\n",
       "238827  20200516    350      640          71    오스트레일리아        1     39.0\n",
       "238828  20200522    350      595          33    오스트레일리아        1     50.0"
      ]
     },
     "execution_count": 36,
     "metadata": {},
     "output_type": "execute_result"
    }
   ],
   "source": [
    "dt_card_foreigner.tail()"
   ]
  },
  {
   "cell_type": "code",
   "execution_count": 100,
   "metadata": {},
   "outputs": [
    {
     "name": "stdout",
     "output_type": "stream",
     "text": [
      "<class 'pandas.core.frame.DataFrame'>\n",
      "RangeIndex: 238829 entries, 0 to 238828\n",
      "Data columns (total 7 columns):\n",
      " #   Column      Non-Null Count   Dtype  \n",
      "---  ------      --------------   -----  \n",
      " 0   STD_DD      238829 non-null  int64  \n",
      " 1   GU_CD       238829 non-null  int64  \n",
      " 2   DONG_CD     238829 non-null  int64  \n",
      " 3   MCT_CAT_CD  238829 non-null  int64  \n",
      " 4   COUNTRY_NM  238829 non-null  object \n",
      " 5   USE_CNT     238829 non-null  int64  \n",
      " 6   USE_AMT     238826 non-null  float64\n",
      "dtypes: float64(1), int64(5), object(1)\n",
      "memory usage: 12.8+ MB\n"
     ]
    }
   ],
   "source": [
    "dt_card_foreigner.info()"
   ]
  },
  {
   "cell_type": "code",
   "execution_count": 101,
   "metadata": {},
   "outputs": [],
   "source": [
    "dt_card_foreigner['STD_DD'] = dt_card_foreigner['STD_DD'].apply(str)"
   ]
  },
  {
   "cell_type": "code",
   "execution_count": 102,
   "metadata": {},
   "outputs": [
    {
     "name": "stdout",
     "output_type": "stream",
     "text": [
      "<class 'pandas.core.frame.DataFrame'>\n",
      "RangeIndex: 238829 entries, 0 to 238828\n",
      "Data columns (total 7 columns):\n",
      " #   Column      Non-Null Count   Dtype  \n",
      "---  ------      --------------   -----  \n",
      " 0   STD_DD      238829 non-null  object \n",
      " 1   GU_CD       238829 non-null  int64  \n",
      " 2   DONG_CD     238829 non-null  int64  \n",
      " 3   MCT_CAT_CD  238829 non-null  int64  \n",
      " 4   COUNTRY_NM  238829 non-null  object \n",
      " 5   USE_CNT     238829 non-null  int64  \n",
      " 6   USE_AMT     238826 non-null  float64\n",
      "dtypes: float64(1), int64(4), object(2)\n",
      "memory usage: 12.8+ MB\n"
     ]
    }
   ],
   "source": [
    "dt_card_foreigner.info()"
   ]
  },
  {
   "cell_type": "code",
   "execution_count": 104,
   "metadata": {},
   "outputs": [],
   "source": [
    "dt_card_foreigner.STD_DD=pd.to_datetime(dt_card_foreigner.STD_DD)"
   ]
  },
  {
   "cell_type": "code",
   "execution_count": 105,
   "metadata": {},
   "outputs": [
    {
     "name": "stdout",
     "output_type": "stream",
     "text": [
      "<class 'pandas.core.frame.DataFrame'>\n",
      "RangeIndex: 238829 entries, 0 to 238828\n",
      "Data columns (total 7 columns):\n",
      " #   Column      Non-Null Count   Dtype         \n",
      "---  ------      --------------   -----         \n",
      " 0   STD_DD      238829 non-null  datetime64[ns]\n",
      " 1   GU_CD       238829 non-null  int64         \n",
      " 2   DONG_CD     238829 non-null  int64         \n",
      " 3   MCT_CAT_CD  238829 non-null  int64         \n",
      " 4   COUNTRY_NM  238829 non-null  object        \n",
      " 5   USE_CNT     238829 non-null  int64         \n",
      " 6   USE_AMT     238826 non-null  float64       \n",
      "dtypes: datetime64[ns](1), float64(1), int64(4), object(1)\n",
      "memory usage: 12.8+ MB\n"
     ]
    }
   ],
   "source": [
    "dt_card_foreigner.info()"
   ]
  },
  {
   "cell_type": "code",
   "execution_count": 106,
   "metadata": {},
   "outputs": [
    {
     "data": {
      "text/html": [
       "<div>\n",
       "<style scoped>\n",
       "    .dataframe tbody tr th:only-of-type {\n",
       "        vertical-align: middle;\n",
       "    }\n",
       "\n",
       "    .dataframe tbody tr th {\n",
       "        vertical-align: top;\n",
       "    }\n",
       "\n",
       "    .dataframe thead th {\n",
       "        text-align: right;\n",
       "    }\n",
       "</style>\n",
       "<table border=\"1\" class=\"dataframe\">\n",
       "  <thead>\n",
       "    <tr style=\"text-align: right;\">\n",
       "      <th></th>\n",
       "      <th>STD_DD</th>\n",
       "      <th>GU_CD</th>\n",
       "      <th>DONG_CD</th>\n",
       "      <th>MCT_CAT_CD</th>\n",
       "      <th>COUNTRY_NM</th>\n",
       "      <th>USE_CNT</th>\n",
       "      <th>USE_AMT</th>\n",
       "    </tr>\n",
       "  </thead>\n",
       "  <tbody>\n",
       "    <tr>\n",
       "      <th>0</th>\n",
       "      <td>2019-02-04</td>\n",
       "      <td>260</td>\n",
       "      <td>510</td>\n",
       "      <td>81</td>\n",
       "      <td>대만</td>\n",
       "      <td>2</td>\n",
       "      <td>30.0</td>\n",
       "    </tr>\n",
       "    <tr>\n",
       "      <th>1</th>\n",
       "      <td>2019-02-13</td>\n",
       "      <td>260</td>\n",
       "      <td>510</td>\n",
       "      <td>40</td>\n",
       "      <td>대만</td>\n",
       "      <td>2</td>\n",
       "      <td>32.0</td>\n",
       "    </tr>\n",
       "    <tr>\n",
       "      <th>2</th>\n",
       "      <td>2019-04-16</td>\n",
       "      <td>260</td>\n",
       "      <td>510</td>\n",
       "      <td>40</td>\n",
       "      <td>대만</td>\n",
       "      <td>2</td>\n",
       "      <td>16.0</td>\n",
       "    </tr>\n",
       "    <tr>\n",
       "      <th>3</th>\n",
       "      <td>2019-04-19</td>\n",
       "      <td>260</td>\n",
       "      <td>510</td>\n",
       "      <td>42</td>\n",
       "      <td>대만</td>\n",
       "      <td>3</td>\n",
       "      <td>610.0</td>\n",
       "    </tr>\n",
       "    <tr>\n",
       "      <th>4</th>\n",
       "      <td>2019-03-08</td>\n",
       "      <td>260</td>\n",
       "      <td>510</td>\n",
       "      <td>10</td>\n",
       "      <td>대만</td>\n",
       "      <td>7</td>\n",
       "      <td>629.0</td>\n",
       "    </tr>\n",
       "  </tbody>\n",
       "</table>\n",
       "</div>"
      ],
      "text/plain": [
       "      STD_DD  GU_CD  DONG_CD  MCT_CAT_CD COUNTRY_NM  USE_CNT  USE_AMT\n",
       "0 2019-02-04    260      510          81         대만        2     30.0\n",
       "1 2019-02-13    260      510          40         대만        2     32.0\n",
       "2 2019-04-16    260      510          40         대만        2     16.0\n",
       "3 2019-04-19    260      510          42         대만        3    610.0\n",
       "4 2019-03-08    260      510          10         대만        7    629.0"
      ]
     },
     "execution_count": 106,
     "metadata": {},
     "output_type": "execute_result"
    }
   ],
   "source": [
    "dt_card_foreigner.head()"
   ]
  },
  {
   "cell_type": "code",
   "execution_count": 38,
   "metadata": {},
   "outputs": [
    {
     "data": {
      "text/plain": [
       "STD_DD        0\n",
       "GU_CD         0\n",
       "DONG_CD       0\n",
       "MCT_CAT_CD    0\n",
       "COUNTRY_NM    0\n",
       "USE_CNT       0\n",
       "USE_AMT       3\n",
       "dtype: int64"
      ]
     },
     "execution_count": 38,
     "metadata": {},
     "output_type": "execute_result"
    }
   ],
   "source": [
    "dt_card_foreigner.isnull().sum()"
   ]
  },
  {
   "cell_type": "code",
   "execution_count": 39,
   "metadata": {},
   "outputs": [
    {
     "data": {
      "text/html": [
       "<div>\n",
       "<style scoped>\n",
       "    .dataframe tbody tr th:only-of-type {\n",
       "        vertical-align: middle;\n",
       "    }\n",
       "\n",
       "    .dataframe tbody tr th {\n",
       "        vertical-align: top;\n",
       "    }\n",
       "\n",
       "    .dataframe thead th {\n",
       "        text-align: right;\n",
       "    }\n",
       "</style>\n",
       "<table border=\"1\" class=\"dataframe\">\n",
       "  <thead>\n",
       "    <tr style=\"text-align: right;\">\n",
       "      <th></th>\n",
       "      <th>STD_DD</th>\n",
       "      <th>GU_CD</th>\n",
       "      <th>DONG_CD</th>\n",
       "      <th>MCT_CAT_CD</th>\n",
       "      <th>COUNTRY_NM</th>\n",
       "      <th>USE_CNT</th>\n",
       "      <th>USE_AMT</th>\n",
       "    </tr>\n",
       "  </thead>\n",
       "  <tbody>\n",
       "    <tr>\n",
       "      <th>159857</th>\n",
       "      <td>20200422</td>\n",
       "      <td>140</td>\n",
       "      <td>540</td>\n",
       "      <td>40</td>\n",
       "      <td>대만</td>\n",
       "      <td>1</td>\n",
       "      <td>NaN</td>\n",
       "    </tr>\n",
       "    <tr>\n",
       "      <th>223832</th>\n",
       "      <td>20200527</td>\n",
       "      <td>140</td>\n",
       "      <td>540</td>\n",
       "      <td>40</td>\n",
       "      <td>대만</td>\n",
       "      <td>1</td>\n",
       "      <td>NaN</td>\n",
       "    </tr>\n",
       "    <tr>\n",
       "      <th>234647</th>\n",
       "      <td>20200423</td>\n",
       "      <td>140</td>\n",
       "      <td>540</td>\n",
       "      <td>40</td>\n",
       "      <td>대만</td>\n",
       "      <td>6</td>\n",
       "      <td>NaN</td>\n",
       "    </tr>\n",
       "  </tbody>\n",
       "</table>\n",
       "</div>"
      ],
      "text/plain": [
       "          STD_DD  GU_CD  DONG_CD  MCT_CAT_CD COUNTRY_NM  USE_CNT  USE_AMT\n",
       "159857  20200422    140      540          40         대만        1      NaN\n",
       "223832  20200527    140      540          40         대만        1      NaN\n",
       "234647  20200423    140      540          40         대만        6      NaN"
      ]
     },
     "execution_count": 39,
     "metadata": {},
     "output_type": "execute_result"
    }
   ],
   "source": [
    "dt_card_foreigner[dt_card_foreigner['USE_AMT'].isnull()]"
   ]
  },
  {
   "cell_type": "markdown",
   "metadata": {},
   "source": [
    "USE_AMT에 NULL값이 존재하므로 NULL값 처리하는 방법 고안"
   ]
  },
  {
   "cell_type": "markdown",
   "metadata": {},
   "source": [
    "## STD_DD 기준일자"
   ]
  },
  {
   "cell_type": "code",
   "execution_count": 40,
   "metadata": {},
   "outputs": [
    {
     "data": {
      "text/plain": [
       "20190504    1524\n",
       "20190503    1505\n",
       "20190427    1502\n",
       "20190406    1500\n",
       "20190413    1498\n",
       "            ... \n",
       "20200419     472\n",
       "20200329     467\n",
       "20200322     463\n",
       "20200405     462\n",
       "20200315     455\n",
       "Name: STD_DD, Length: 241, dtype: int64"
      ]
     },
     "execution_count": 40,
     "metadata": {},
     "output_type": "execute_result"
    }
   ],
   "source": [
    "dt_card_foreigner.STD_DD.unique()\n",
    "dt_card_foreigner.STD_DD.value_counts()"
   ]
  },
  {
   "cell_type": "markdown",
   "metadata": {},
   "source": [
    "## GU_CD 구코드"
   ]
  },
  {
   "cell_type": "code",
   "execution_count": 41,
   "metadata": {},
   "outputs": [
    {
     "data": {
      "text/plain": [
       "140    149997\n",
       "110     31849\n",
       "350     30779\n",
       "260     26204\n",
       "Name: GU_CD, dtype: int64"
      ]
     },
     "execution_count": 41,
     "metadata": {},
     "output_type": "execute_result"
    }
   ],
   "source": [
    "dt_card_foreigner.GU_CD.unique()\n",
    "dt_card_foreigner.GU_CD.value_counts()"
   ]
  },
  {
   "cell_type": "markdown",
   "metadata": {},
   "source": [
    "## DONG_CD 행정동코드"
   ]
  },
  {
   "cell_type": "code",
   "execution_count": 42,
   "metadata": {},
   "outputs": [
    {
     "data": {
      "text/plain": [
       "550    33948\n",
       "540    22757\n",
       "590    22075\n",
       "520    20551\n",
       "570    12492\n",
       "565    11855\n",
       "605     9886\n",
       "580     9428\n",
       "615     7760\n",
       "680     7742\n",
       "640     7434\n",
       "670     6451\n",
       "545     6193\n",
       "575     5860\n",
       "665     5398\n",
       "625     5022\n",
       "600     4838\n",
       "595     4156\n",
       "510     3850\n",
       "560     2752\n",
       "650     2523\n",
       "635     2446\n",
       "695     2317\n",
       "611     2200\n",
       "630     2102\n",
       "517     1350\n",
       "645     1321\n",
       "610     1298\n",
       "620     1295\n",
       "621     1274\n",
       "602     1187\n",
       "530     1115\n",
       "651     1067\n",
       "619      953\n",
       "690      897\n",
       "585      653\n",
       "624      631\n",
       "561      562\n",
       "652      516\n",
       "661      465\n",
       "720      413\n",
       "601      386\n",
       "710      342\n",
       "700      300\n",
       "612      297\n",
       "660      244\n",
       "662      227\n",
       "Name: DONG_CD, dtype: int64"
      ]
     },
     "execution_count": 42,
     "metadata": {},
     "output_type": "execute_result"
    }
   ],
   "source": [
    "dt_card_foreigner.DONG_CD.unique()\n",
    "dt_card_foreigner.DONG_CD.value_counts()"
   ]
  },
  {
   "cell_type": "markdown",
   "metadata": {},
   "source": [
    "## MCT_CAT_CD 업종코드"
   ]
  },
  {
   "cell_type": "code",
   "execution_count": 43,
   "metadata": {},
   "outputs": [
    {
     "data": {
      "text/plain": [
       "80    49982\n",
       "40    49693\n",
       "10    23817\n",
       "81    20305\n",
       "71    15963\n",
       "42    15805\n",
       "70    13892\n",
       "44    10335\n",
       "20     7961\n",
       "52     6083\n",
       "50     5777\n",
       "22     4781\n",
       "62     4535\n",
       "21     2807\n",
       "43     2107\n",
       "34     1368\n",
       "33      975\n",
       "92      960\n",
       "35      773\n",
       "32      589\n",
       "60      162\n",
       "30      145\n",
       "31       14\n",
       "Name: MCT_CAT_CD, dtype: int64"
      ]
     },
     "execution_count": 43,
     "metadata": {},
     "output_type": "execute_result"
    }
   ],
   "source": [
    "dt_card_foreigner.MCT_CAT_CD.unique()\n",
    "dt_card_foreigner.MCT_CAT_CD.value_counts()"
   ]
  },
  {
   "cell_type": "markdown",
   "metadata": {},
   "source": [
    "## COUNTRY_NM 외국인 국가명"
   ]
  },
  {
   "cell_type": "code",
   "execution_count": 44,
   "metadata": {},
   "outputs": [
    {
     "data": {
      "text/plain": [
       "미국         51570\n",
       "일본         24936\n",
       "유럽         23703\n",
       "중국         22320\n",
       "미주         17692\n",
       "아시아        15814\n",
       "대만         13894\n",
       "영국         12866\n",
       "홍콩         10946\n",
       "싱가폴         9660\n",
       "중동/아프리카     8645\n",
       "태국          7694\n",
       "필리핀         6185\n",
       "베트남         5271\n",
       "프랑스         1346\n",
       "독일          1321\n",
       "캐나다         1119\n",
       "오스트레일리아      943\n",
       "카자흐스탄        773\n",
       "정보없음         698\n",
       "러시아          637\n",
       "스웨덴          539\n",
       "네덜란드         257\n",
       "Name: COUNTRY_NM, dtype: int64"
      ]
     },
     "execution_count": 44,
     "metadata": {},
     "output_type": "execute_result"
    }
   ],
   "source": [
    "dt_card_foreigner.COUNTRY_NM.unique()\n",
    "dt_card_foreigner.COUNTRY_NM.value_counts()"
   ]
  },
  {
   "cell_type": "markdown",
   "metadata": {},
   "source": [
    "## USE_CNT 이용건수"
   ]
  },
  {
   "cell_type": "code",
   "execution_count": 45,
   "metadata": {},
   "outputs": [
    {
     "data": {
      "text/plain": [
       "1       81712\n",
       "2       40053\n",
       "3       16711\n",
       "4       13914\n",
       "5        7962\n",
       "        ...  \n",
       "1348        1\n",
       "2885        1\n",
       "836         1\n",
       "2629        1\n",
       "1088        1\n",
       "Name: USE_CNT, Length: 1546, dtype: int64"
      ]
     },
     "execution_count": 45,
     "metadata": {},
     "output_type": "execute_result"
    }
   ],
   "source": [
    "dt_card_foreigner.USE_CNT.unique()\n",
    "dt_card_foreigner.USE_CNT.value_counts()"
   ]
  },
  {
   "cell_type": "markdown",
   "metadata": {},
   "source": [
    "## USE_AMT 이용금액"
   ]
  },
  {
   "cell_type": "code",
   "execution_count": 46,
   "metadata": {},
   "outputs": [
    {
     "data": {
      "text/plain": [
       "5.0        4549\n",
       "6.0        3943\n",
       "4.0        3859\n",
       "3.0        3801\n",
       "10.0       3732\n",
       "           ... \n",
       "5665.0        1\n",
       "6894.0        1\n",
       "15323.0       1\n",
       "13879.0       1\n",
       "32767.0       1\n",
       "Name: USE_AMT, Length: 19697, dtype: int64"
      ]
     },
     "execution_count": 46,
     "metadata": {},
     "output_type": "execute_result"
    }
   ],
   "source": [
    "dt_card_foreigner.USE_AMT.unique()\n",
    "dt_card_foreigner.USE_AMT.value_counts()"
   ]
  },
  {
   "cell_type": "code",
   "execution_count": 49,
   "metadata": {},
   "outputs": [
    {
     "data": {
      "image/png": "[encoded data removed]",
      "text/plain": [
       "<Figure size 936x360 with 1 Axes>"
      ]
     },
     "metadata": {
      "needs_background": "light"
     },
     "output_type": "display_data"
    }
   ],
   "source": [
    "plt.figure(figsize=(13,5))\n",
    "sns.countplot(data=dt_card_foreigner, x='COUNTRY_NM')\n",
    "plt.rcParams['font.family'] = 'Malgun Gothic'\n",
    "plt.xticks(rotation=45)\n",
    "plt.show()"
   ]
  },
  {
   "cell_type": "code",
   "execution_count": 48,
   "metadata": {},
   "outputs": [
    {
     "data": {
      "image/png": "[encoded data removed]",
      "text/plain": [
       "<Figure size 936x360 with 1 Axes>"
      ]
     },
     "metadata": {
      "needs_background": "light"
     },
     "output_type": "display_data"
    }
   ],
   "source": [
    "plt.figure(figsize=(13,5))\n",
    "sns.countplot(data=dt_card_foreigner, x='COUNTRY_NM', hue='GU_CD')\n",
    "plt.rcParams['font.family'] = 'Malgun Gothic'\n",
    "plt.xticks(rotation=45)\n",
    "plt.show()"
   ]
  },
  {
   "cell_type": "markdown",
   "metadata": {},
   "source": [
    "140 - 서울 중구(주황)  \n",
    "350 - 서울 노원구(빨강)  \n",
    "110 - 대구 중구(파랑)  \n",
    "260 - 대구 수성구(초록)"
   ]
  },
  {
   "cell_type": "code",
   "execution_count": null,
   "metadata": {},
   "outputs": [],
   "source": []
  },
  {
   "cell_type": "code",
   "execution_count": null,
   "metadata": {},
   "outputs": [],
   "source": []
  },
  {
   "cell_type": "code",
   "execution_count": null,
   "metadata": {},
   "outputs": [],
   "source": []
  },
  {
   "cell_type": "code",
   "execution_count": null,
   "metadata": {},
   "outputs": [],
   "source": []
  },
  {
   "cell_type": "code",
   "execution_count": null,
   "metadata": {},
   "outputs": [],
   "source": []
  }
 ],
 "metadata": {
  "kernelspec": {
   "display_name": "Python 3",
   "language": "python",
   "name": "python3"
  },
  "language_info": {
   "codemirror_mode": {
    "name": "ipython",
    "version": 3
   },
   "file_extension": ".py",
   "mimetype": "text/x-python",
   "name": "python",
   "nbconvert_exporter": "python",
   "pygments_lexer": "ipython3",
   "version": "3.7.6"
  }
 },
 "nbformat": 4,
 "nbformat_minor": 4
}
